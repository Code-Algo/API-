{
 "cells": [
  {
   "cell_type": "markdown",
   "metadata": {},
   "source": [
    "# Advanced APIs"
   ]
  },
  {
   "cell_type": "markdown",
   "metadata": {},
   "source": [
    "### Set up for Success"
   ]
  },
  {
   "cell_type": "code",
   "execution_count": 64,
   "metadata": {},
   "outputs": [],
   "source": [
    "import requests\n",
    "\n",
    "url='https://cae-bootstore.herokuapp.com'\n",
    "\n",
    "endpoint_login = '/login'\n",
    "endpoint_user = '/user'\n",
    "endpoint_book = '/book'\n"
   ]
  },
  {
   "cell_type": "code",
   "execution_count": 63,
   "metadata": {},
   "outputs": [],
   "source": [
    "import requests\n",
    "\n",
    "url = 'https://cae-bootstore.herokuapp.com'\n",
    "\n",
    "end_point_login = \"/login\"\n",
    "endpoint_user = \"/user\"\n",
    "endpoint_book = \"/book\"\n"
   ]
  },
  {
   "cell_type": "markdown",
   "metadata": {},
   "source": [
    "## GET Requests"
   ]
  },
  {
   "cell_type": "code",
   "execution_count": 135,
   "metadata": {
    "scrolled": true
   },
   "outputs": [
    {
     "name": "stdout",
     "output_type": "stream",
     "text": [
      "[{'author': 'Arlene Dahl', 'created_on': 'Mon, 28 Feb 2022 19:21:17 GMT', 'id': 18, 'img': 'https://s2982.pcdn.co/wp-content/uploads/2018/11/always-ask-a-man-book-cover.jpg', 'pages': 198, 'subject': 'self help', 'summary': 'For women traveling back to the US 1950', 'title': 'ALWAYS ASK A MAN: THE KEY TO FEMININITY'}, {'author': 'Arnetta R. Scales', 'created_on': 'Mon, 28 Feb 2022 19:21:17 GMT', 'id': 19, 'img': 'https://s2982.pcdn.co/wp-content/uploads/2018/11/and-on-the-eighth-day-god-created-hairdressers-book-cover.jpg', 'pages': 222, 'subject': 'self help', 'summary': 'Becuase I just gotta get my hair did', 'title': 'AND ON THE EIGHTH DAY GOD CREATED HAIRDRESSERS'}, {'author': 'James Maratta', 'created_on': 'Mon, 28 Feb 2022 19:21:17 GMT', 'id': 20, 'img': 'https://s2982.pcdn.co/wp-content/uploads/2018/11/brainwashing-is-a-cinch-book-cover.jpg', 'pages': 321, 'subject': 'science', 'summary': 'We bother making a rational argument?', 'title': 'BRAINWASHING IS A CINCH!'}, {'author': 'Stephanie Jackson', 'created_on': 'Mon, 28 Feb 2022 19:21:17 GMT', 'id': 21, 'img': 'https://s2982.pcdn.co/wp-content/uploads/2018/11/cat-flexing.jpg', 'pages': 1295, 'subject': 'self help', 'summary': 'Who needs heavy weights when a fat cat will do', 'title': 'CATFLEXING: A CATLOVER’S GUIDE TO WEIGHTLIFTING, AEROBICS & STRETCHING'}, {'author': 'Micheala Giles', 'created_on': 'Mon, 28 Feb 2022 19:21:17 GMT', 'id': 22, 'img': 'https://s2982.pcdn.co/wp-content/uploads/2018/11/commuter-pig-keeper-book-cover.jpg', 'pages': 87, 'subject': 'science', 'summary': 'Not in Kansas anymore? Raising pigs in the City with a full time job?', 'title': 'THE COMMUTER PIG KEEPER'}, {'author': 'Elizabeth Worthington Strong', 'created_on': 'Mon, 28 Feb 2022 19:21:17 GMT', 'id': 24, 'img': 'https://s2982.pcdn.co/wp-content/uploads/2018/11/how-to-cook-husbands-book-cover.jpg', 'pages': 199, 'subject': 'marriage advice', 'summary': \"For when you are tired of the question What's for dinner?\", 'title': 'HOW TO COOK HUSBANDS'}, {'author': 'Lois Bird', 'created_on': 'Mon, 28 Feb 2022 19:21:17 GMT', 'id': 25, 'img': 'https://s2982.pcdn.co/wp-content/uploads/2018/11/how-to-make-your-wife-your-mistress-book-cover.jpg', 'pages': 111, 'subject': 'marriage advice', 'summary': 'Living with two women can be hard: Consolidate', 'title': 'HOW TO MAKE YOUR WIFE YOUR MISTRESS'}, {'author': 'Brenda Bence', 'created_on': 'Mon, 28 Feb 2022 19:21:17 GMT', 'id': 26, 'img': 'https://s2982.pcdn.co/wp-content/uploads/2018/11/how-you-are-like-shampoo-book-cover.jpg', 'pages': 222, 'subject': 'self help', 'summary': 'Lather, rinse, repeat.', 'title': 'HOW YOU ARE LIKE SHAMPOO'}, {'author': 'Aqua Boil', 'created_on': 'Mon, 28 Feb 2022 19:21:17 GMT', 'id': 27, 'img': 'https://s2982.pcdn.co/wp-content/uploads/2018/11/the-joy-of-waterboiling-book-cover-759x1024.jpg', 'pages': 12, 'subject': 'entertainment', 'summary': 'For when you need to have fun on a budget ', 'title': 'THE JOY OF WATER BOILING'}, {'author': 'Drew Emborsky', 'created_on': 'Mon, 28 Feb 2022 19:21:17 GMT', 'id': 28, 'img': 'https://s2982.pcdn.co/wp-content/uploads/2018/11/men-who-knit-and-the-dogs-who-love-them-book-cover.jpg', 'pages': 397, 'subject': 'entertainment', 'summary': 'Nothing finer than knitting matching sweaters for you and your dog', 'title': 'MEN WHO KNIT & THE DOGS WHO LOVE THEM'}, {'author': 'Matthew Voggel', 'created_on': 'Mon, 28 Feb 2022 19:21:17 GMT', 'id': 30, 'img': 'https://s2982.pcdn.co/wp-content/uploads/2018/11/natural-history-of-vacant-lots-book-cover-178x300.jpg', 'pages': 452, 'subject': 'science', 'summary': 'Seinfeld for Property', 'title': 'NATURAL HISTORY OF VACANT LOTS'}, {'author': 'Hester Mundis', 'created_on': 'Mon, 28 Feb 2022 19:21:17 GMT', 'id': 31, 'img': 'https://s2982.pcdn.co/wp-content/uploads/2018/11/no-hes-not-a-monkey-book-cover.jpg', 'pages': 521, 'subject': 'self help', 'summary': 'Advice on raising a teenage boy', 'title': 'NO, HE’S NOT A MONKEY, HE’S AN APE AND HE’S MY SON'}, {'author': 'Linda Wright', 'created_on': 'Mon, 28 Feb 2022 19:21:17 GMT', 'id': 32, 'img': 'https://s2982.pcdn.co/wp-content/uploads/2018/11/toilet-paper-origami-book-cover.jpg', 'pages': 222, 'subject': 'entertainment', 'summary': 'A book for when you leave your phone in the other room.', 'title': 'TOILET PAPER ORIGAMI'}, {'author': 'Martin Greenberg', 'created_on': 'Mon, 28 Feb 2022 19:21:17 GMT', 'id': 33, 'img': 'https://s2982.pcdn.co/wp-content/uploads/2018/11/zombie-raccoons-and-killer-rabbits-book-cover.jpg', 'pages': 201, 'subject': 'science', 'summary': \"When the day comes you'll thank me\", 'title': 'ZOMBIE RACCOONS & KILLER BUNNIES'}, {'author': 'Donal I Rogers', 'created_on': 'Mon, 28 Feb 2022 19:21:17 GMT', 'id': 34, 'img': 'https://s2982.pcdn.co/wp-content/uploads/2018/11/teach-your-wife-to-be-a-widow-book-cover.jpg', 'pages': 187, 'subject': 'marriage', 'summary': 'For when your wife browses our marriage section', 'title': 'TEACH YOUR WIFE TO BE A WIDOW'}, {'author': 'The Practical Dev', 'created_on': 'Mon, 07 Mar 2022 21:56:09 GMT', 'id': 35, 'img': 'https://boyter.org/static/books/Cn1rWcbWcAAgsCA.jpg', 'pages': 120, 'subject': 'Programming', 'summary': 'Regex is hard', 'title': 'Googling for the Regex'}, {'author': 'The Practical Dev', 'created_on': 'Mon, 07 Mar 2022 21:56:09 GMT', 'id': 36, 'img': 'https://boyter.org/static/books/CpWvVOoW8AAjYmB.jpg', 'pages': 5324, 'subject': 'Programming', 'summary': 'git add, git commit, git push, git clone, git branch, git fetch', 'title': 'Memorizing Six Git Commands'}, {'author': 'The Practical Dev', 'created_on': 'Mon, 07 Mar 2022 21:56:09 GMT', 'id': 37, 'img': 'https://boyter.org/static/books/CnDD1t0XgAQMXJA.jpg', 'pages': 57, 'subject': 'Programming', 'summary': 'To catch them is your real test, to train them is your cause', 'title': \"Catching 'em all\"}, {'author': 'The Practical Dev', 'created_on': 'Mon, 07 Mar 2022 21:56:09 GMT', 'id': 38, 'img': 'https://boyter.org/static/books/Cf7eHZ1W4AEeZJA.jpg', 'pages': 125, 'subject': 'Programming', 'summary': 'The way programmers like to learn', 'title': 'Changing Stuff and Seeing What Happens'}, {'author': 'The Practical Dev', 'created_on': 'Mon, 07 Mar 2022 21:56:09 GMT', 'id': 39, 'img': 'https://boyter.org/static/books/ChdhDa5XEAAK36t.jpg', 'pages': 233, 'subject': 'Programming', 'summary': 'What happened when I built this ap', 'title': 'Moving Fast and breaking things'}, {'author': 'The Practical Dev', 'created_on': 'Mon, 07 Mar 2022 21:56:09 GMT', 'id': 40, 'img': 'https://boyter.org/static/books/CiHHf9-UYAA6aVB.jpg', 'pages': 233, 'subject': 'Programming', 'summary': 'A book on the key to success', 'title': 'Remembering What to Google'}, {'author': 'Anonymous', 'created_on': 'Mon, 28 Feb 2022 19:21:17 GMT', 'id': 23, 'img': 'https://s2982.pcdn.co/wp-content/uploads/2018/11/cooking-to-kill-book-cover.jpg', 'pages': 3207, 'subject': 'cooking', 'summary': 'Originally titled: Divorce with Benefits', 'title': 'COOKING TO KILL: THE POISON COOK-BOOK'}, {'author': 'The Practical Dev', 'created_on': 'Mon, 07 Mar 2022 21:56:09 GMT', 'id': 41, 'img': 'https://boyter.org/static/books/Cllb9urWMAAKaz4.jpg', 'pages': 384, 'subject': 'Programming', 'summary': 'A book on how I got through Coding Temple Lectures', 'title': 'Nodding along'}, {'author': 'The Practical Dev', 'created_on': 'Mon, 07 Mar 2022 21:56:09 GMT', 'id': 42, 'img': 'https://boyter.org/static/books/CfSQdwUW8AErog1.jpg', 'pages': 32, 'subject': 'Programming', 'summary': 'My programming process', 'title': 'Trying Stuff Until it Works'}, {'author': 'The Practical Dev', 'created_on': 'Mon, 07 Mar 2022 21:56:09 GMT', 'id': 43, 'img': 'https://boyter.org/static/books/pRDPMx2.jpg', 'pages': 475, 'subject': 'Programming', 'summary': 'I think i know what this does', 'title': 'Copying and Pasting from Stack Overflow'}, {'author': 'The Practical Dev', 'created_on': 'Mon, 07 Mar 2022 21:56:09 GMT', 'id': 44, 'img': 'https://boyter.org/static/books/C1_sRq9XgAADMzY.jpg', 'pages': 2, 'subject': 'Programming', 'summary': 'Crossing those fingers', 'title': 'Hoping for the Right Interview Questions'}, {'author': 'The Practical Dev', 'created_on': 'Mon, 07 Mar 2022 22:24:42 GMT', 'id': 45, 'img': 'https://boyter.org/static/books/f8153cfdbe0a117e6386fa7051976063-2.jpeg', 'pages': 923, 'subject': 'Programming', 'summary': \"Wade's old textbook\", 'title': 'Cobol: the fossilized guide'}, {'author': 'The Practical Dev', 'created_on': 'Mon, 07 Mar 2022 22:24:42 GMT', 'id': 46, 'img': 'https://boyter.org/static/books/e1120a9e3abfecff3ac50527e1b3556f-2.jpeg', 'pages': 143, 'subject': 'Programming', 'summary': 'Looks just as good as the original', 'title': 'JPEG Compression'}, {'author': 'Peanut Pirate', 'created_on': 'Wed, 09 Mar 2022 23:12:01 GMT', 'id': 47, 'img': 'http://www.fastprint.co.uk/Assets/User/2107-outwitting-squirrels.jpg', 'pages': 12456, 'subject': 'entertainment', 'summary': \"It's way harder than it sounds\", 'title': 'Outwitting Squirrels'}, {'author': 'Malcolm', 'created_on': 'Wed, 09 Mar 2022 23:12:01 GMT', 'id': 48, 'img': 'http://www.fastprint.co.uk/Assets/User/2064-eating-people-is-wrong.jpg', 'pages': 134, 'subject': 'cooking', 'summary': 'This was also news to me', 'title': 'Eating People is Wrong'}, {'author': '673126', 'created_on': 'Wed, 09 Mar 2022 23:12:01 GMT', 'id': 49, 'img': 'http://www.fastprint.co.uk/Assets/User/2084-how-to-make-money-in-your-spare-time.jpg', 'pages': 666, 'subject': 'self help', 'summary': 'Black mask not included', 'title': 'How to make money in your spare time'}, {'author': 'John W Trimmer', 'created_on': 'Wed, 09 Mar 2022 23:12:01 GMT', 'id': 50, 'img': 'http://www.fastprint.co.uk/Assets/User/2079-how-to-avoid-huge-ships.jpg', 'pages': 1, 'subject': 'science', 'summary': 'Pivot', 'title': 'How to Avoid Huge Ships'}, {'author': 'Heather Silver', 'created_on': 'Wed, 09 Mar 2022 23:12:01 GMT', 'id': 51, 'img': 'http://www.fastprint.co.uk/Assets/User/2142-why-cats-paint.jpg', 'pages': 185, 'subject': 'entertainment', 'summary': 'A photogenic journey through the internets favorite topic', 'title': 'Why Cats Paint'}, {'author': 'Coolio', 'created_on': 'Wed, 09 Mar 2022 23:12:01 GMT', 'id': 52, 'img': 'http://www.fastprint.co.uk/Assets/User/2062-cookin-with-coolio.jpg', 'pages': 207, 'subject': 'cooking', 'summary': 'The fried bologna is devine', 'title': \"Cookin' with Coolio\"}]\n"
     ]
    }
   ],
   "source": [
    "def get_books():\n",
    "    books = requests.get(url+endpoint_book)\n",
    "    return books.json()['books']\n",
    "books=get_books()\n",
    "print(books)"
   ]
  },
  {
   "cell_type": "code",
   "execution_count": 39,
   "metadata": {},
   "outputs": [
    {
     "name": "stdout",
     "output_type": "stream",
     "text": [
      "[{'author': 'Arlene Dahl', 'created_on': 'Mon, 28 Feb 2022 19:21:17 GMT', 'id': 18, 'img': 'https://s2982.pcdn.co/wp-content/uploads/2018/11/always-ask-a-man-book-cover.jpg', 'pages': 198, 'subject': 'self help', 'summary': 'For women traveling back to the US 1950', 'title': 'ALWAYS ASK A MAN: THE KEY TO FEMININITY'}, {'author': 'Arnetta R. Scales', 'created_on': 'Mon, 28 Feb 2022 19:21:17 GMT', 'id': 19, 'img': 'https://s2982.pcdn.co/wp-content/uploads/2018/11/and-on-the-eighth-day-god-created-hairdressers-book-cover.jpg', 'pages': 222, 'subject': 'self help', 'summary': 'Becuase I just gotta get my hair did', 'title': 'AND ON THE EIGHTH DAY GOD CREATED HAIRDRESSERS'}, {'author': 'James Maratta', 'created_on': 'Mon, 28 Feb 2022 19:21:17 GMT', 'id': 20, 'img': 'https://s2982.pcdn.co/wp-content/uploads/2018/11/brainwashing-is-a-cinch-book-cover.jpg', 'pages': 321, 'subject': 'science', 'summary': 'We bother making a rational argument?', 'title': 'BRAINWASHING IS A CINCH!'}, {'author': 'Stephanie Jackson', 'created_on': 'Mon, 28 Feb 2022 19:21:17 GMT', 'id': 21, 'img': 'https://s2982.pcdn.co/wp-content/uploads/2018/11/cat-flexing.jpg', 'pages': 1295, 'subject': 'self help', 'summary': 'Who needs heavy weights when a fat cat will do', 'title': 'CATFLEXING: A CATLOVER’S GUIDE TO WEIGHTLIFTING, AEROBICS & STRETCHING'}, {'author': 'Micheala Giles', 'created_on': 'Mon, 28 Feb 2022 19:21:17 GMT', 'id': 22, 'img': 'https://s2982.pcdn.co/wp-content/uploads/2018/11/commuter-pig-keeper-book-cover.jpg', 'pages': 87, 'subject': 'science', 'summary': 'Not in Kansas anymore? Raising pigs in the City with a full time job?', 'title': 'THE COMMUTER PIG KEEPER'}, {'author': 'Elizabeth Worthington Strong', 'created_on': 'Mon, 28 Feb 2022 19:21:17 GMT', 'id': 24, 'img': 'https://s2982.pcdn.co/wp-content/uploads/2018/11/how-to-cook-husbands-book-cover.jpg', 'pages': 199, 'subject': 'marriage advice', 'summary': \"For when you are tired of the question What's for dinner?\", 'title': 'HOW TO COOK HUSBANDS'}, {'author': 'Lois Bird', 'created_on': 'Mon, 28 Feb 2022 19:21:17 GMT', 'id': 25, 'img': 'https://s2982.pcdn.co/wp-content/uploads/2018/11/how-to-make-your-wife-your-mistress-book-cover.jpg', 'pages': 111, 'subject': 'marriage advice', 'summary': 'Living with two women can be hard: Consolidate', 'title': 'HOW TO MAKE YOUR WIFE YOUR MISTRESS'}, {'author': 'Brenda Bence', 'created_on': 'Mon, 28 Feb 2022 19:21:17 GMT', 'id': 26, 'img': 'https://s2982.pcdn.co/wp-content/uploads/2018/11/how-you-are-like-shampoo-book-cover.jpg', 'pages': 222, 'subject': 'self help', 'summary': 'Lather, rinse, repeat.', 'title': 'HOW YOU ARE LIKE SHAMPOO'}, {'author': 'Aqua Boil', 'created_on': 'Mon, 28 Feb 2022 19:21:17 GMT', 'id': 27, 'img': 'https://s2982.pcdn.co/wp-content/uploads/2018/11/the-joy-of-waterboiling-book-cover-759x1024.jpg', 'pages': 12, 'subject': 'entertainment', 'summary': 'For when you need to have fun on a budget ', 'title': 'THE JOY OF WATER BOILING'}, {'author': 'Drew Emborsky', 'created_on': 'Mon, 28 Feb 2022 19:21:17 GMT', 'id': 28, 'img': 'https://s2982.pcdn.co/wp-content/uploads/2018/11/men-who-knit-and-the-dogs-who-love-them-book-cover.jpg', 'pages': 397, 'subject': 'entertainment', 'summary': 'Nothing finer than knitting matching sweaters for you and your dog', 'title': 'MEN WHO KNIT & THE DOGS WHO LOVE THEM'}, {'author': 'Matthew Voggel', 'created_on': 'Mon, 28 Feb 2022 19:21:17 GMT', 'id': 30, 'img': 'https://s2982.pcdn.co/wp-content/uploads/2018/11/natural-history-of-vacant-lots-book-cover-178x300.jpg', 'pages': 452, 'subject': 'science', 'summary': 'Seinfeld for Property', 'title': 'NATURAL HISTORY OF VACANT LOTS'}, {'author': 'Hester Mundis', 'created_on': 'Mon, 28 Feb 2022 19:21:17 GMT', 'id': 31, 'img': 'https://s2982.pcdn.co/wp-content/uploads/2018/11/no-hes-not-a-monkey-book-cover.jpg', 'pages': 521, 'subject': 'self help', 'summary': 'Advice on raising a teenage boy', 'title': 'NO, HE’S NOT A MONKEY, HE’S AN APE AND HE’S MY SON'}, {'author': 'Linda Wright', 'created_on': 'Mon, 28 Feb 2022 19:21:17 GMT', 'id': 32, 'img': 'https://s2982.pcdn.co/wp-content/uploads/2018/11/toilet-paper-origami-book-cover.jpg', 'pages': 222, 'subject': 'entertainment', 'summary': 'A book for when you leave your phone in the other room.', 'title': 'TOILET PAPER ORIGAMI'}, {'author': 'Martin Greenberg', 'created_on': 'Mon, 28 Feb 2022 19:21:17 GMT', 'id': 33, 'img': 'https://s2982.pcdn.co/wp-content/uploads/2018/11/zombie-raccoons-and-killer-rabbits-book-cover.jpg', 'pages': 201, 'subject': 'science', 'summary': \"When the day comes you'll thank me\", 'title': 'ZOMBIE RACCOONS & KILLER BUNNIES'}, {'author': 'Donal I Rogers', 'created_on': 'Mon, 28 Feb 2022 19:21:17 GMT', 'id': 34, 'img': 'https://s2982.pcdn.co/wp-content/uploads/2018/11/teach-your-wife-to-be-a-widow-book-cover.jpg', 'pages': 187, 'subject': 'marriage', 'summary': 'For when your wife browses our marriage section', 'title': 'TEACH YOUR WIFE TO BE A WIDOW'}, {'author': 'The Practical Dev', 'created_on': 'Mon, 07 Mar 2022 21:56:09 GMT', 'id': 35, 'img': 'https://boyter.org/static/books/Cn1rWcbWcAAgsCA.jpg', 'pages': 120, 'subject': 'Programming', 'summary': 'Regex is hard', 'title': 'Googling for the Regex'}, {'author': 'The Practical Dev', 'created_on': 'Mon, 07 Mar 2022 21:56:09 GMT', 'id': 36, 'img': 'https://boyter.org/static/books/CpWvVOoW8AAjYmB.jpg', 'pages': 5324, 'subject': 'Programming', 'summary': 'git add, git commit, git push, git clone, git branch, git fetch', 'title': 'Memorizing Six Git Commands'}, {'author': 'The Practical Dev', 'created_on': 'Mon, 07 Mar 2022 21:56:09 GMT', 'id': 37, 'img': 'https://boyter.org/static/books/CnDD1t0XgAQMXJA.jpg', 'pages': 57, 'subject': 'Programming', 'summary': 'To catch them is your real test, to train them is your cause', 'title': \"Catching 'em all\"}, {'author': 'The Practical Dev', 'created_on': 'Mon, 07 Mar 2022 21:56:09 GMT', 'id': 38, 'img': 'https://boyter.org/static/books/Cf7eHZ1W4AEeZJA.jpg', 'pages': 125, 'subject': 'Programming', 'summary': 'The way programmers like to learn', 'title': 'Changing Stuff and Seeing What Happens'}, {'author': 'The Practical Dev', 'created_on': 'Mon, 07 Mar 2022 21:56:09 GMT', 'id': 39, 'img': 'https://boyter.org/static/books/ChdhDa5XEAAK36t.jpg', 'pages': 233, 'subject': 'Programming', 'summary': 'What happened when I built this ap', 'title': 'Moving Fast and breaking things'}, {'author': 'The Practical Dev', 'created_on': 'Mon, 07 Mar 2022 21:56:09 GMT', 'id': 40, 'img': 'https://boyter.org/static/books/CiHHf9-UYAA6aVB.jpg', 'pages': 233, 'subject': 'Programming', 'summary': 'A book on the key to success', 'title': 'Remembering What to Google'}, {'author': 'Anonymous', 'created_on': 'Mon, 28 Feb 2022 19:21:17 GMT', 'id': 23, 'img': 'https://s2982.pcdn.co/wp-content/uploads/2018/11/cooking-to-kill-book-cover.jpg', 'pages': 3207, 'subject': 'cooking', 'summary': 'Originally titled: Divorce with Benefits', 'title': 'COOKING TO KILL: THE POISON COOK-BOOK'}, {'author': 'The Practical Dev', 'created_on': 'Mon, 07 Mar 2022 21:56:09 GMT', 'id': 41, 'img': 'https://boyter.org/static/books/Cllb9urWMAAKaz4.jpg', 'pages': 384, 'subject': 'Programming', 'summary': 'A book on how I got through Coding Temple Lectures', 'title': 'Nodding along'}, {'author': 'The Practical Dev', 'created_on': 'Mon, 07 Mar 2022 21:56:09 GMT', 'id': 42, 'img': 'https://boyter.org/static/books/CfSQdwUW8AErog1.jpg', 'pages': 32, 'subject': 'Programming', 'summary': 'My programming process', 'title': 'Trying Stuff Until it Works'}, {'author': 'The Practical Dev', 'created_on': 'Mon, 07 Mar 2022 21:56:09 GMT', 'id': 43, 'img': 'https://boyter.org/static/books/pRDPMx2.jpg', 'pages': 475, 'subject': 'Programming', 'summary': 'I think i know what this does', 'title': 'Copying and Pasting from Stack Overflow'}, {'author': 'The Practical Dev', 'created_on': 'Mon, 07 Mar 2022 21:56:09 GMT', 'id': 44, 'img': 'https://boyter.org/static/books/C1_sRq9XgAADMzY.jpg', 'pages': 2, 'subject': 'Programming', 'summary': 'Crossing those fingers', 'title': 'Hoping for the Right Interview Questions'}, {'author': 'The Practical Dev', 'created_on': 'Mon, 07 Mar 2022 22:24:42 GMT', 'id': 45, 'img': 'https://boyter.org/static/books/f8153cfdbe0a117e6386fa7051976063-2.jpeg', 'pages': 923, 'subject': 'Programming', 'summary': \"Wade's old textbook\", 'title': 'Cobol: the fossilized guide'}, {'author': 'The Practical Dev', 'created_on': 'Mon, 07 Mar 2022 22:24:42 GMT', 'id': 46, 'img': 'https://boyter.org/static/books/e1120a9e3abfecff3ac50527e1b3556f-2.jpeg', 'pages': 143, 'subject': 'Programming', 'summary': 'Looks just as good as the original', 'title': 'JPEG Compression'}, {'author': 'Peanut Pirate', 'created_on': 'Wed, 09 Mar 2022 23:12:01 GMT', 'id': 47, 'img': 'http://www.fastprint.co.uk/Assets/User/2107-outwitting-squirrels.jpg', 'pages': 12456, 'subject': 'entertainment', 'summary': \"It's way harder than it sounds\", 'title': 'Outwitting Squirrels'}, {'author': 'Malcolm', 'created_on': 'Wed, 09 Mar 2022 23:12:01 GMT', 'id': 48, 'img': 'http://www.fastprint.co.uk/Assets/User/2064-eating-people-is-wrong.jpg', 'pages': 134, 'subject': 'cooking', 'summary': 'This was also news to me', 'title': 'Eating People is Wrong'}, {'author': '673126', 'created_on': 'Wed, 09 Mar 2022 23:12:01 GMT', 'id': 49, 'img': 'http://www.fastprint.co.uk/Assets/User/2084-how-to-make-money-in-your-spare-time.jpg', 'pages': 666, 'subject': 'self help', 'summary': 'Black mask not included', 'title': 'How to make money in your spare time'}, {'author': 'John W Trimmer', 'created_on': 'Wed, 09 Mar 2022 23:12:01 GMT', 'id': 50, 'img': 'http://www.fastprint.co.uk/Assets/User/2079-how-to-avoid-huge-ships.jpg', 'pages': 1, 'subject': 'science', 'summary': 'Pivot', 'title': 'How to Avoid Huge Ships'}, {'author': 'Heather Silver', 'created_on': 'Wed, 09 Mar 2022 23:12:01 GMT', 'id': 51, 'img': 'http://www.fastprint.co.uk/Assets/User/2142-why-cats-paint.jpg', 'pages': 185, 'subject': 'entertainment', 'summary': 'A photogenic journey through the internets favorite topic', 'title': 'Why Cats Paint'}, {'author': 'Coolio', 'created_on': 'Wed, 09 Mar 2022 23:12:01 GMT', 'id': 52, 'img': 'http://www.fastprint.co.uk/Assets/User/2062-cookin-with-coolio.jpg', 'pages': 207, 'subject': 'cooking', 'summary': 'The fried bologna is devine', 'title': \"Cookin' with Coolio\"}]\n"
     ]
    }
   ],
   "source": [
    "def get_books():\n",
    "    books = requests.get(url+endpoint_book)\n",
    "    return books.json()['books']\n",
    "books=get_books()\n",
    "print(books)\n",
    "    "
   ]
  },
  {
   "cell_type": "markdown",
   "metadata": {},
   "source": [
    "## In Class Assignment A\n",
    "\n",
    "#### make a function that returns a set of all the categories/subject found in the book list"
   ]
  },
  {
   "cell_type": "code",
   "execution_count": 78,
   "metadata": {},
   "outputs": [
    {
     "name": "stdout",
     "output_type": "stream",
     "text": [
      "{'marriage advice', 'science', 'entertainment', 'marriage', 'cooking', 'self help', 'Programming'}\n",
      "{'marriage advice', 'science', 'entertainment', 'marriage', 'cooking', 'self help', 'Programming'}\n"
     ]
    }
   ],
   "source": [
    "def get_category_list(x):\n",
    "    aset = set()\n",
    "    for book in books:\n",
    "        aset.add(book['subject'])\n",
    "    return aset\n",
    "print(get_category_list(books))\n",
    "\n",
    "def get_category(x):\n",
    "    return {book[\"subject\"] for book in books}\n",
    "print(get_category(books))"
   ]
  },
  {
   "cell_type": "markdown",
   "metadata": {},
   "source": [
    "## In Class Assignment B\n",
    "\n",
    "#### make a function that returns a list of all the books(dicts) in a category"
   ]
  },
  {
   "cell_type": "code",
   "execution_count": 49,
   "metadata": {},
   "outputs": [
    {
     "data": {
      "text/plain": [
       "[{'author': 'Anonymous',\n",
       "  'created_on': 'Mon, 28 Feb 2022 19:21:17 GMT',\n",
       "  'id': 23,\n",
       "  'img': 'https://s2982.pcdn.co/wp-content/uploads/2018/11/cooking-to-kill-book-cover.jpg',\n",
       "  'pages': 3207,\n",
       "  'subject': 'cooking',\n",
       "  'summary': 'Originally titled: Divorce with Benefits',\n",
       "  'title': 'COOKING TO KILL: THE POISON COOK-BOOK'},\n",
       " {'author': 'Malcolm',\n",
       "  'created_on': 'Wed, 09 Mar 2022 23:12:01 GMT',\n",
       "  'id': 48,\n",
       "  'img': 'http://www.fastprint.co.uk/Assets/User/2064-eating-people-is-wrong.jpg',\n",
       "  'pages': 134,\n",
       "  'subject': 'cooking',\n",
       "  'summary': 'This was also news to me',\n",
       "  'title': 'Eating People is Wrong'},\n",
       " {'author': 'Coolio',\n",
       "  'created_on': 'Wed, 09 Mar 2022 23:12:01 GMT',\n",
       "  'id': 52,\n",
       "  'img': 'http://www.fastprint.co.uk/Assets/User/2062-cookin-with-coolio.jpg',\n",
       "  'pages': 207,\n",
       "  'subject': 'cooking',\n",
       "  'summary': 'The fried bologna is devine',\n",
       "  'title': \"Cookin' with Coolio\"}]"
      ]
     },
     "execution_count": 49,
     "metadata": {},
     "output_type": "execute_result"
    }
   ],
   "source": [
    "def get_book_by_category(book, category):\n",
    "    return list(filter(lambda book: book['subject'] == category, books))\n",
    "get_book_by_category(books, 'cooking')"
   ]
  },
  {
   "cell_type": "markdown",
   "metadata": {},
   "source": [
    "## Using a SLUG\n",
    "A Slug is the unique identifying part of a web address, typically at the end of the URL"
   ]
  },
  {
   "cell_type": "code",
   "execution_count": 27,
   "metadata": {
    "scrolled": true
   },
   "outputs": [
    {
     "name": "stdout",
     "output_type": "stream",
     "text": [
      "{'author': 'Micheala Giles', 'created_on': 'Mon, 28 Feb 2022 19:21:17 GMT', 'id': 22, 'img': 'https://s2982.pcdn.co/wp-content/uploads/2018/11/commuter-pig-keeper-book-cover.jpg', 'pages': 87, 'subject': 'science', 'summary': 'Not in Kansas anymore? Raising pigs in the City with a full time job?', 'title': 'THE COMMUTER PIG KEEPER'}\n"
     ]
    }
   ],
   "source": [
    "def get_single_book(book_id):\n",
    "    single_book = requests.get(url+endpoint_book+'/' + str(book_id))\n",
    "    return single_book.json()\n",
    "    \n",
    "print(get_single_book(22))"
   ]
  },
  {
   "cell_type": "code",
   "execution_count": 57,
   "metadata": {},
   "outputs": [
    {
     "name": "stdout",
     "output_type": "stream",
     "text": [
      "{'author': 'Micheala Giles', 'created_on': 'Mon, 28 Feb 2022 19:21:17 GMT', 'id': 22, 'img': 'https://s2982.pcdn.co/wp-content/uploads/2018/11/commuter-pig-keeper-book-cover.jpg', 'pages': 87, 'subject': 'science', 'summary': 'Not in Kansas anymore? Raising pigs in the City with a full time job?', 'title': 'THE COMMUTER PIG KEEPER'}\n"
     ]
    }
   ],
   "source": [
    "def get_single_book(book_id):\n",
    "    single_book = requests.get(url+endpoint_book+'/'+str(book_id))   \n",
    "    return single_book.json()\n",
    "\n",
    "print(get_single_book(22))"
   ]
  },
  {
   "cell_type": "markdown",
   "metadata": {},
   "source": [
    "## POST Requests\n",
    "\n",
    "#### json.dumps will convert a dictionary into a JSON String ready for transport"
   ]
  },
  {
   "cell_type": "code",
   "execution_count": 127,
   "metadata": {
    "scrolled": true
   },
   "outputs": [
    {
     "name": "stdout",
     "output_type": "stream",
     "text": [
      "<Response [200]>\n"
     ]
    }
   ],
   "source": [
    "import json\n",
    "\n",
    "\n",
    "def register_user(payload):\n",
    "    payload_json_string=json.dumps(payload)\n",
    "    headers = {\n",
    "        'Content-Type': 'application/json'\n",
    "    }\n",
    "\n",
    "    response=requests.post(\n",
    "        url + endpoint_user,\n",
    "        data = payload_json_string,\n",
    "        headers = headers\n",
    "    )\n",
    "    return response.text\n",
    "\n",
    "jims_payload={\n",
    "        \"email\":\"jimb@eam7.com\",\n",
    "        \"first_name\":\"William\",\n",
    "        \"last_name\":\"Beam\",\n",
    "        \"password\":\"123\"\n",
    "}    \n",
    "\n",
    "register_user(jims_payload)\n",
    "print(response)\n"
   ]
  },
  {
   "cell_type": "code",
   "execution_count": 59,
   "metadata": {},
   "outputs": [
    {
     "data": {
      "text/plain": [
       "'success'"
      ]
     },
     "execution_count": 59,
     "metadata": {},
     "output_type": "execute_result"
    }
   ],
   "source": [
    "import json\n",
    "\n",
    "def register_user(payload):\n",
    "    payload_json_string = json.dumps(payload)\n",
    "    headers = {\n",
    "        'Content-Type':'application/json'\n",
    "    }\n",
    "    response = requests.post(\n",
    "        url + endpoint_user,\n",
    "        data = payload_json_string,\n",
    "        headers = headers\n",
    "    )\n",
    "    return response.text\n",
    "\n",
    "\n",
    "\n",
    "sekander_payload={\n",
    "        \"email\":\"sekander@eam7.com\",\n",
    "        \"first_name\":\"William\",\n",
    "        \"last_name\":\"Beam\",\n",
    "        \"password\":\"123\"\n",
    "}  \n",
    "\n",
    "register_user(sekander_payload)\n"
   ]
  },
  {
   "cell_type": "markdown",
   "metadata": {},
   "source": [
    "## Authentication - Basic Authorization\n"
   ]
  },
  {
   "cell_type": "code",
   "execution_count": 70,
   "metadata": {},
   "outputs": [
    {
     "data": {
      "text/plain": [
       "{'created_on': 'Thu, 21 Jul 2022 16:42:56 GMT',\n",
       " 'email': 'sekander@eam7.com',\n",
       " 'first_name': 'William',\n",
       " 'last_name': 'Beam',\n",
       " 'modified_on': 'Thu, 21 Jul 2022 17:00:46 GMT',\n",
       " 'token': 'JHV3TWpVbW7MFN708avhDQlGnIKWuNT2luDgRE7fPjk',\n",
       " 'user_id': 190}"
      ]
     },
     "execution_count": 70,
     "metadata": {},
     "output_type": "execute_result"
    }
   ],
   "source": [
    "import base64\n",
    "\n",
    "def login_user(user_name, password):\n",
    "    auth_string = user_name + \":\" + password\n",
    "    \n",
    "    headers = {\n",
    "        'Authorization' : 'Basic '+base64.b64encode(auth_string.encode()).decode()\n",
    "    }\n",
    "    \n",
    "    user_data = requests.get(\n",
    "        url + endpoint_login,\n",
    "        headers = headers\n",
    "    )\n",
    "    return user_data.json()\n",
    "login_user('sekander@eam7.com','123')"
   ]
  },
  {
   "cell_type": "code",
   "execution_count": 130,
   "metadata": {
    "scrolled": true
   },
   "outputs": [
    {
     "name": "stdout",
     "output_type": "stream",
     "text": [
      "{'created_on': 'Thu, 21 Jul 2022 02:15:32 GMT', 'email': 'jimb@eam7.com', 'first_name': 'Bill', 'last_name': 'Beam', 'modified_on': 'Thu, 21 Jul 2022 02:45:28 GMT', 'token': 'y-45Xn6BctHBL3wZyyhv3VNCn-XugdCd0oOMtY0FD78', 'user_id': 174}\n"
     ]
    }
   ],
   "source": [
    "import base64\n",
    "\n",
    "def login_user(user_name, password):\n",
    "    \n",
    "    auth_string=user_name+':'+password\n",
    "    \n",
    "    headers = {\n",
    "        'Authorization': \"Basic \"+base64.b64encode(auth_string.encode()).decode()\n",
    "    }\n",
    "\n",
    "    user_data=requests.get(\n",
    "        url + endpoint_login,\n",
    "        headers = headers\n",
    "    )\n",
    "    return user_data.json()\n",
    "print(login_user('jimb@eam7.com','123'))"
   ]
  },
  {
   "cell_type": "code",
   "execution_count": 69,
   "metadata": {},
   "outputs": [
    {
     "ename": "NameError",
     "evalue": "name 'sekander' is not defined",
     "output_type": "error",
     "traceback": [
      "\u001b[0;31m---------------------------------------------------------------------------\u001b[0m",
      "\u001b[0;31mNameError\u001b[0m                                 Traceback (most recent call last)",
      "Input \u001b[0;32mIn [69]\u001b[0m, in \u001b[0;36m<cell line: 2>\u001b[0;34m()\u001b[0m\n\u001b[1;32m      1\u001b[0m jim\u001b[38;5;241m=\u001b[39mlogin_user(\u001b[38;5;124m'\u001b[39m\u001b[38;5;124msekander@eam7.com\u001b[39m\u001b[38;5;124m'\u001b[39m,\u001b[38;5;124m'\u001b[39m\u001b[38;5;124m123\u001b[39m\u001b[38;5;124m'\u001b[39m)\n\u001b[0;32m----> 2\u001b[0m \u001b[38;5;28mprint\u001b[39m(\u001b[43msekander\u001b[49m[\u001b[38;5;124m'\u001b[39m\u001b[38;5;124mtoken\u001b[39m\u001b[38;5;124m'\u001b[39m])\n",
      "\u001b[0;31mNameError\u001b[0m: name 'sekander' is not defined"
     ]
    }
   ],
   "source": [
    "jim=login_user('sekander@eam7.com','123')\n",
    "print(sekander['token'])"
   ]
  },
  {
   "cell_type": "code",
   "execution_count": null,
   "metadata": {},
   "outputs": [],
   "source": []
  },
  {
   "cell_type": "markdown",
   "metadata": {},
   "source": [
    "## Authentication - Bearer Authorization & PUT Requests"
   ]
  },
  {
   "cell_type": "code",
   "execution_count": 72,
   "metadata": {},
   "outputs": [
    {
     "ename": "NameError",
     "evalue": "name 'sekander' is not defined",
     "output_type": "error",
     "traceback": [
      "\u001b[0;31m---------------------------------------------------------------------------\u001b[0m",
      "\u001b[0;31mNameError\u001b[0m                                 Traceback (most recent call last)",
      "Input \u001b[0;32mIn [72]\u001b[0m, in \u001b[0;36m<cell line: 16>\u001b[0;34m()\u001b[0m\n\u001b[1;32m     11\u001b[0m     \u001b[38;5;28;01mreturn\u001b[39;00m response\u001b[38;5;241m.\u001b[39mtext\n\u001b[1;32m     12\u001b[0m sekanders_edit_payload\u001b[38;5;241m=\u001b[39m{\n\u001b[1;32m     13\u001b[0m     \u001b[38;5;124m\"\u001b[39m\u001b[38;5;124mfirst_name\u001b[39m\u001b[38;5;124m\"\u001b[39m:\u001b[38;5;124m\"\u001b[39m\u001b[38;5;124mBill\u001b[39m\u001b[38;5;124m\"\u001b[39m\n\u001b[1;32m     14\u001b[0m }\n\u001b[0;32m---> 16\u001b[0m edit_user(\u001b[43msekander\u001b[49m[\u001b[38;5;124m'\u001b[39m\u001b[38;5;124mtoken\u001b[39m\u001b[38;5;124m'\u001b[39m], sekanders_edit_payload)\n",
      "\u001b[0;31mNameError\u001b[0m: name 'sekander' is not defined"
     ]
    }
   ],
   "source": [
    "def edit_user(token, payload):\n",
    "    payload_json_string = json.dumps(payload)\n",
    "    headers = {'Content-Type':'application/json',\n",
    "              'Authorization':'Bearer '+token\n",
    "    }\n",
    "    response = requests.put(\n",
    "        url + endpoint_user,\n",
    "        data = payload_json_string,\n",
    "        headers=headers\n",
    "    )\n",
    "    return response.text\n",
    "\n",
    "sekanders_edit_payload={\n",
    "    \"first_name\":\"Bill\"\n",
    "}\n",
    "\n",
    "edit_user(sekander['token'], sekanders_edit_payload)\n",
    "             "
   ]
  },
  {
   "cell_type": "code",
   "execution_count": 52,
   "metadata": {},
   "outputs": [
    {
     "name": "stdout",
     "output_type": "stream",
     "text": [
      "200\n"
     ]
    }
   ],
   "source": [
    "def edit_user(token, payload):\n",
    "    payload_json_string=json.dumps(payload)\n",
    "    headers = {\n",
    "        'Content-Type' : 'application/json',\n",
    "        'Authorization' : 'Bearer ' + token\n",
    "    }\n",
    "\n",
    "    response=requests.put(\n",
    "        url + endpoint_user,\n",
    "        data = payload_json_string,\n",
    "        headers = headers\n",
    "    )\n",
    "    return response.status_code\n",
    "\n",
    "jims_edit_payload={\n",
    "        \"first_name\":\"Bill\"\n",
    "}    \n",
    "\n",
    "print(edit_user(jim['token'], jims_edit_payload))\n"
   ]
  },
  {
   "cell_type": "code",
   "execution_count": 53,
   "metadata": {
    "scrolled": false
   },
   "outputs": [
    {
     "name": "stdout",
     "output_type": "stream",
     "text": [
      "Bill\n"
     ]
    }
   ],
   "source": [
    "jim=login_user('jimb@eam7.com','123')\n",
    "print(jim['first_name'])"
   ]
  },
  {
   "cell_type": "markdown",
   "metadata": {},
   "source": [
    "## DELETE Request"
   ]
  },
  {
   "cell_type": "code",
   "execution_count": 132,
   "metadata": {},
   "outputs": [
    {
     "name": "stdout",
     "output_type": "stream",
     "text": [
      "success\n"
     ]
    }
   ],
   "source": [
    "def delete_user(token):\n",
    "     \n",
    "    \n",
    "    headers = {\n",
    "        'Authorization': \"Bearer \" + token\n",
    "    }\n",
    "\n",
    "    response=requests.delete(\n",
    "        url + endpoint_user,\n",
    "        headers = headers\n",
    "    )\n",
    "    return response.text\n",
    "print(delete_user(jim['token']))"
   ]
  },
  {
   "cell_type": "code",
   "execution_count": 133,
   "metadata": {},
   "outputs": [
    {
     "ename": "JSONDecodeError",
     "evalue": "Expecting value: line 1 column 1 (char 0)",
     "output_type": "error",
     "traceback": [
      "\u001b[0;31m---------------------------------------------------------------------------\u001b[0m",
      "\u001b[0;31mJSONDecodeError\u001b[0m                           Traceback (most recent call last)",
      "\u001b[0;32m~/.local/lib/python3.10/site-packages/requests/models.py\u001b[0m in \u001b[0;36mjson\u001b[0;34m(self, **kwargs)\u001b[0m\n\u001b[1;32m    970\u001b[0m         \u001b[0;32mtry\u001b[0m\u001b[0;34m:\u001b[0m\u001b[0;34m\u001b[0m\u001b[0;34m\u001b[0m\u001b[0m\n\u001b[0;32m--> 971\u001b[0;31m             \u001b[0;32mreturn\u001b[0m \u001b[0mcomplexjson\u001b[0m\u001b[0;34m.\u001b[0m\u001b[0mloads\u001b[0m\u001b[0;34m(\u001b[0m\u001b[0mself\u001b[0m\u001b[0;34m.\u001b[0m\u001b[0mtext\u001b[0m\u001b[0;34m,\u001b[0m \u001b[0;34m**\u001b[0m\u001b[0mkwargs\u001b[0m\u001b[0;34m)\u001b[0m\u001b[0;34m\u001b[0m\u001b[0;34m\u001b[0m\u001b[0m\n\u001b[0m\u001b[1;32m    972\u001b[0m         \u001b[0;32mexcept\u001b[0m \u001b[0mJSONDecodeError\u001b[0m \u001b[0;32mas\u001b[0m \u001b[0me\u001b[0m\u001b[0;34m:\u001b[0m\u001b[0;34m\u001b[0m\u001b[0;34m\u001b[0m\u001b[0m\n",
      "\u001b[0;32m/usr/lib64/python3.10/json/__init__.py\u001b[0m in \u001b[0;36mloads\u001b[0;34m(s, cls, object_hook, parse_float, parse_int, parse_constant, object_pairs_hook, **kw)\u001b[0m\n\u001b[1;32m    345\u001b[0m             parse_constant is None and object_pairs_hook is None and not kw):\n\u001b[0;32m--> 346\u001b[0;31m         \u001b[0;32mreturn\u001b[0m \u001b[0m_default_decoder\u001b[0m\u001b[0;34m.\u001b[0m\u001b[0mdecode\u001b[0m\u001b[0;34m(\u001b[0m\u001b[0ms\u001b[0m\u001b[0;34m)\u001b[0m\u001b[0;34m\u001b[0m\u001b[0;34m\u001b[0m\u001b[0m\n\u001b[0m\u001b[1;32m    347\u001b[0m     \u001b[0;32mif\u001b[0m \u001b[0mcls\u001b[0m \u001b[0;32mis\u001b[0m \u001b[0;32mNone\u001b[0m\u001b[0;34m:\u001b[0m\u001b[0;34m\u001b[0m\u001b[0;34m\u001b[0m\u001b[0m\n",
      "\u001b[0;32m/usr/lib64/python3.10/json/decoder.py\u001b[0m in \u001b[0;36mdecode\u001b[0;34m(self, s, _w)\u001b[0m\n\u001b[1;32m    336\u001b[0m         \"\"\"\n\u001b[0;32m--> 337\u001b[0;31m         \u001b[0mobj\u001b[0m\u001b[0;34m,\u001b[0m \u001b[0mend\u001b[0m \u001b[0;34m=\u001b[0m \u001b[0mself\u001b[0m\u001b[0;34m.\u001b[0m\u001b[0mraw_decode\u001b[0m\u001b[0;34m(\u001b[0m\u001b[0ms\u001b[0m\u001b[0;34m,\u001b[0m \u001b[0midx\u001b[0m\u001b[0;34m=\u001b[0m\u001b[0m_w\u001b[0m\u001b[0;34m(\u001b[0m\u001b[0ms\u001b[0m\u001b[0;34m,\u001b[0m \u001b[0;36m0\u001b[0m\u001b[0;34m)\u001b[0m\u001b[0;34m.\u001b[0m\u001b[0mend\u001b[0m\u001b[0;34m(\u001b[0m\u001b[0;34m)\u001b[0m\u001b[0;34m)\u001b[0m\u001b[0;34m\u001b[0m\u001b[0;34m\u001b[0m\u001b[0m\n\u001b[0m\u001b[1;32m    338\u001b[0m         \u001b[0mend\u001b[0m \u001b[0;34m=\u001b[0m \u001b[0m_w\u001b[0m\u001b[0;34m(\u001b[0m\u001b[0ms\u001b[0m\u001b[0;34m,\u001b[0m \u001b[0mend\u001b[0m\u001b[0;34m)\u001b[0m\u001b[0;34m.\u001b[0m\u001b[0mend\u001b[0m\u001b[0;34m(\u001b[0m\u001b[0;34m)\u001b[0m\u001b[0;34m\u001b[0m\u001b[0;34m\u001b[0m\u001b[0m\n",
      "\u001b[0;32m/usr/lib64/python3.10/json/decoder.py\u001b[0m in \u001b[0;36mraw_decode\u001b[0;34m(self, s, idx)\u001b[0m\n\u001b[1;32m    354\u001b[0m         \u001b[0;32mexcept\u001b[0m \u001b[0mStopIteration\u001b[0m \u001b[0;32mas\u001b[0m \u001b[0merr\u001b[0m\u001b[0;34m:\u001b[0m\u001b[0;34m\u001b[0m\u001b[0;34m\u001b[0m\u001b[0m\n\u001b[0;32m--> 355\u001b[0;31m             \u001b[0;32mraise\u001b[0m \u001b[0mJSONDecodeError\u001b[0m\u001b[0;34m(\u001b[0m\u001b[0;34m\"Expecting value\"\u001b[0m\u001b[0;34m,\u001b[0m \u001b[0ms\u001b[0m\u001b[0;34m,\u001b[0m \u001b[0merr\u001b[0m\u001b[0;34m.\u001b[0m\u001b[0mvalue\u001b[0m\u001b[0;34m)\u001b[0m \u001b[0;32mfrom\u001b[0m \u001b[0;32mNone\u001b[0m\u001b[0;34m\u001b[0m\u001b[0;34m\u001b[0m\u001b[0m\n\u001b[0m\u001b[1;32m    356\u001b[0m         \u001b[0;32mreturn\u001b[0m \u001b[0mobj\u001b[0m\u001b[0;34m,\u001b[0m \u001b[0mend\u001b[0m\u001b[0;34m\u001b[0m\u001b[0;34m\u001b[0m\u001b[0m\n",
      "\u001b[0;31mJSONDecodeError\u001b[0m: Expecting value: line 1 column 1 (char 0)",
      "\nDuring handling of the above exception, another exception occurred:\n",
      "\u001b[0;31mJSONDecodeError\u001b[0m                           Traceback (most recent call last)",
      "\u001b[0;32m<ipython-input-133-ee972beda951>\u001b[0m in \u001b[0;36m<module>\u001b[0;34m\u001b[0m\n\u001b[0;32m----> 1\u001b[0;31m \u001b[0mjim\u001b[0m\u001b[0;34m=\u001b[0m\u001b[0mlogin_user\u001b[0m\u001b[0;34m(\u001b[0m\u001b[0;34m'jimb@eam7.com'\u001b[0m\u001b[0;34m,\u001b[0m\u001b[0;34m'123'\u001b[0m\u001b[0;34m)\u001b[0m\u001b[0;34m\u001b[0m\u001b[0;34m\u001b[0m\u001b[0m\n\u001b[0m",
      "\u001b[0;32m<ipython-input-130-da9456dde5b0>\u001b[0m in \u001b[0;36mlogin_user\u001b[0;34m(user_name, password)\u001b[0m\n\u001b[1;32m     14\u001b[0m         \u001b[0mheaders\u001b[0m \u001b[0;34m=\u001b[0m \u001b[0mheaders\u001b[0m\u001b[0;34m\u001b[0m\u001b[0;34m\u001b[0m\u001b[0m\n\u001b[1;32m     15\u001b[0m     )\n\u001b[0;32m---> 16\u001b[0;31m     \u001b[0;32mreturn\u001b[0m \u001b[0muser_data\u001b[0m\u001b[0;34m.\u001b[0m\u001b[0mjson\u001b[0m\u001b[0;34m(\u001b[0m\u001b[0;34m)\u001b[0m\u001b[0;34m\u001b[0m\u001b[0;34m\u001b[0m\u001b[0m\n\u001b[0m\u001b[1;32m     17\u001b[0m \u001b[0mprint\u001b[0m\u001b[0;34m(\u001b[0m\u001b[0mlogin_user\u001b[0m\u001b[0;34m(\u001b[0m\u001b[0;34m'jimb@eam7.com'\u001b[0m\u001b[0;34m,\u001b[0m\u001b[0;34m'123'\u001b[0m\u001b[0;34m)\u001b[0m\u001b[0;34m)\u001b[0m\u001b[0;34m\u001b[0m\u001b[0;34m\u001b[0m\u001b[0m\n",
      "\u001b[0;32m~/.local/lib/python3.10/site-packages/requests/models.py\u001b[0m in \u001b[0;36mjson\u001b[0;34m(self, **kwargs)\u001b[0m\n\u001b[1;32m    973\u001b[0m             \u001b[0;31m# Catch JSON-related errors and raise as requests.JSONDecodeError\u001b[0m\u001b[0;34m\u001b[0m\u001b[0;34m\u001b[0m\u001b[0m\n\u001b[1;32m    974\u001b[0m             \u001b[0;31m# This aliases json.JSONDecodeError and simplejson.JSONDecodeError\u001b[0m\u001b[0;34m\u001b[0m\u001b[0;34m\u001b[0m\u001b[0m\n\u001b[0;32m--> 975\u001b[0;31m             \u001b[0;32mraise\u001b[0m \u001b[0mRequestsJSONDecodeError\u001b[0m\u001b[0;34m(\u001b[0m\u001b[0me\u001b[0m\u001b[0;34m.\u001b[0m\u001b[0mmsg\u001b[0m\u001b[0;34m,\u001b[0m \u001b[0me\u001b[0m\u001b[0;34m.\u001b[0m\u001b[0mdoc\u001b[0m\u001b[0;34m,\u001b[0m \u001b[0me\u001b[0m\u001b[0;34m.\u001b[0m\u001b[0mpos\u001b[0m\u001b[0;34m)\u001b[0m\u001b[0;34m\u001b[0m\u001b[0;34m\u001b[0m\u001b[0m\n\u001b[0m\u001b[1;32m    976\u001b[0m \u001b[0;34m\u001b[0m\u001b[0m\n\u001b[1;32m    977\u001b[0m     \u001b[0;34m@\u001b[0m\u001b[0mproperty\u001b[0m\u001b[0;34m\u001b[0m\u001b[0;34m\u001b[0m\u001b[0m\n",
      "\u001b[0;31mJSONDecodeError\u001b[0m: Expecting value: line 1 column 1 (char 0)"
     ]
    }
   ],
   "source": [
    "jim=login_user('jimb@eam7.com','123')\n"
   ]
  },
  {
   "cell_type": "markdown",
   "metadata": {},
   "source": [
    "## Display Images in Jupyter notebook"
   ]
  },
  {
   "cell_type": "code",
   "execution_count": 125,
   "metadata": {},
   "outputs": [
    {
     "data": {
      "text/html": [
       "<img src=\"https://s2982.pcdn.co/wp-content/uploads/2018/11/commuter-pig-keeper-book-cover.jpg\"/>"
      ],
      "text/plain": [
       "<IPython.core.display.Image object>"
      ]
     },
     "metadata": {},
     "output_type": "display_data"
    }
   ],
   "source": [
    "from IPython.display import Image\n",
    "from IPython.display import display\n",
    "\n",
    "image=Image(url='https://s2982.pcdn.co/wp-content/uploads/2018/11/commuter-pig-keeper-book-cover.jpg') \n",
    "display(image)\n"
   ]
  },
  {
   "cell_type": "markdown",
   "metadata": {},
   "source": [
    "## Make an Application"
   ]
  },
  {
   "cell_type": "code",
   "execution_count": 77,
   "metadata": {},
   "outputs": [
    {
     "name": "stdout",
     "output_type": "stream",
     "text": [
      "Welcome to the Bookstore\n"
     ]
    },
    {
     "ename": "KeyboardInterrupt",
     "evalue": "Interrupted by user",
     "output_type": "error",
     "traceback": [
      "\u001b[0;31m---------------------------------------------------------------------------\u001b[0m",
      "\u001b[0;31mKeyboardInterrupt\u001b[0m                         Traceback (most recent call last)",
      "Input \u001b[0;32mIn [77]\u001b[0m, in \u001b[0;36m<cell line: 51>\u001b[0;34m()\u001b[0m\n\u001b[1;32m     48\u001b[0m                 time\u001b[38;5;241m.\u001b[39msleep(\u001b[38;5;241m2\u001b[39m)\n\u001b[1;32m     49\u001b[0m                 \u001b[38;5;28;01mcontinue\u001b[39;00m\n\u001b[0;32m---> 51\u001b[0m \u001b[43mmain\u001b[49m\u001b[43m(\u001b[49m\u001b[43m)\u001b[49m\n",
      "Input \u001b[0;32mIn [77]\u001b[0m, in \u001b[0;36mmain\u001b[0;34m()\u001b[0m\n\u001b[1;32m     35\u001b[0m clear_output()\n\u001b[1;32m     36\u001b[0m \u001b[38;5;28mprint\u001b[39m(\u001b[38;5;124m\"\u001b[39m\u001b[38;5;124mWelcome to the Bookstore\u001b[39m\u001b[38;5;124m\"\u001b[39m)\n\u001b[0;32m---> 37\u001b[0m email \u001b[38;5;241m=\u001b[39m \u001b[38;5;28;43minput\u001b[39;49m\u001b[43m(\u001b[49m\u001b[38;5;124;43m\"\u001b[39;49m\u001b[38;5;124;43mType your email to login or Type \u001b[39;49m\u001b[38;5;124;43m'\u001b[39;49m\u001b[38;5;124;43mregister\u001b[39;49m\u001b[38;5;124;43m'\u001b[39;49m\u001b[38;5;124;43m to Register\u001b[39;49m\u001b[38;5;124;43m\"\u001b[39;49m\u001b[43m)\u001b[49m\n\u001b[1;32m     38\u001b[0m \u001b[38;5;28;01mif\u001b[39;00m email \u001b[38;5;241m==\u001b[39m \u001b[38;5;124m'\u001b[39m\u001b[38;5;124mregister\u001b[39m\u001b[38;5;124m'\u001b[39m:\n\u001b[1;32m     39\u001b[0m     \u001b[38;5;28;01mpass\u001b[39;00m\n",
      "File \u001b[0;32m~/opt/anaconda3/lib/python3.9/site-packages/ipykernel/kernelbase.py:1075\u001b[0m, in \u001b[0;36mKernel.raw_input\u001b[0;34m(self, prompt)\u001b[0m\n\u001b[1;32m   1071\u001b[0m \u001b[38;5;28;01mif\u001b[39;00m \u001b[38;5;129;01mnot\u001b[39;00m \u001b[38;5;28mself\u001b[39m\u001b[38;5;241m.\u001b[39m_allow_stdin:\n\u001b[1;32m   1072\u001b[0m     \u001b[38;5;28;01mraise\u001b[39;00m StdinNotImplementedError(\n\u001b[1;32m   1073\u001b[0m         \u001b[38;5;124m\"\u001b[39m\u001b[38;5;124mraw_input was called, but this frontend does not support input requests.\u001b[39m\u001b[38;5;124m\"\u001b[39m\n\u001b[1;32m   1074\u001b[0m     )\n\u001b[0;32m-> 1075\u001b[0m \u001b[38;5;28;01mreturn\u001b[39;00m \u001b[38;5;28;43mself\u001b[39;49m\u001b[38;5;241;43m.\u001b[39;49m\u001b[43m_input_request\u001b[49m\u001b[43m(\u001b[49m\n\u001b[1;32m   1076\u001b[0m \u001b[43m    \u001b[49m\u001b[38;5;28;43mstr\u001b[39;49m\u001b[43m(\u001b[49m\u001b[43mprompt\u001b[49m\u001b[43m)\u001b[49m\u001b[43m,\u001b[49m\n\u001b[1;32m   1077\u001b[0m \u001b[43m    \u001b[49m\u001b[38;5;28;43mself\u001b[39;49m\u001b[38;5;241;43m.\u001b[39;49m\u001b[43m_parent_ident\u001b[49m\u001b[43m[\u001b[49m\u001b[38;5;124;43m\"\u001b[39;49m\u001b[38;5;124;43mshell\u001b[39;49m\u001b[38;5;124;43m\"\u001b[39;49m\u001b[43m]\u001b[49m\u001b[43m,\u001b[49m\n\u001b[1;32m   1078\u001b[0m \u001b[43m    \u001b[49m\u001b[38;5;28;43mself\u001b[39;49m\u001b[38;5;241;43m.\u001b[39;49m\u001b[43mget_parent\u001b[49m\u001b[43m(\u001b[49m\u001b[38;5;124;43m\"\u001b[39;49m\u001b[38;5;124;43mshell\u001b[39;49m\u001b[38;5;124;43m\"\u001b[39;49m\u001b[43m)\u001b[49m\u001b[43m,\u001b[49m\n\u001b[1;32m   1079\u001b[0m \u001b[43m    \u001b[49m\u001b[43mpassword\u001b[49m\u001b[38;5;241;43m=\u001b[39;49m\u001b[38;5;28;43;01mFalse\u001b[39;49;00m\u001b[43m,\u001b[49m\n\u001b[1;32m   1080\u001b[0m \u001b[43m\u001b[49m\u001b[43m)\u001b[49m\n",
      "File \u001b[0;32m~/opt/anaconda3/lib/python3.9/site-packages/ipykernel/kernelbase.py:1120\u001b[0m, in \u001b[0;36mKernel._input_request\u001b[0;34m(self, prompt, ident, parent, password)\u001b[0m\n\u001b[1;32m   1117\u001b[0m             \u001b[38;5;28;01mbreak\u001b[39;00m\n\u001b[1;32m   1118\u001b[0m \u001b[38;5;28;01mexcept\u001b[39;00m \u001b[38;5;167;01mKeyboardInterrupt\u001b[39;00m:\n\u001b[1;32m   1119\u001b[0m     \u001b[38;5;66;03m# re-raise KeyboardInterrupt, to truncate traceback\u001b[39;00m\n\u001b[0;32m-> 1120\u001b[0m     \u001b[38;5;28;01mraise\u001b[39;00m \u001b[38;5;167;01mKeyboardInterrupt\u001b[39;00m(\u001b[38;5;124m\"\u001b[39m\u001b[38;5;124mInterrupted by user\u001b[39m\u001b[38;5;124m\"\u001b[39m) \u001b[38;5;28;01mfrom\u001b[39;00m \u001b[38;5;28mNone\u001b[39m\n\u001b[1;32m   1121\u001b[0m \u001b[38;5;28;01mexcept\u001b[39;00m \u001b[38;5;167;01mException\u001b[39;00m:\n\u001b[1;32m   1122\u001b[0m     \u001b[38;5;28mself\u001b[39m\u001b[38;5;241m.\u001b[39mlog\u001b[38;5;241m.\u001b[39mwarning(\u001b[38;5;124m\"\u001b[39m\u001b[38;5;124mInvalid Message:\u001b[39m\u001b[38;5;124m\"\u001b[39m, exc_info\u001b[38;5;241m=\u001b[39m\u001b[38;5;28;01mTrue\u001b[39;00m)\n",
      "\u001b[0;31mKeyboardInterrupt\u001b[0m: Interrupted by user"
     ]
    }
   ],
   "source": [
    "from getpass import getpass\n",
    "import time\n",
    "from IPython.display import clear_output\n",
    "from IPython.display import Image\n",
    "from IPython.display import display\n",
    "\n",
    "def login():\n",
    "    clear_output()\n",
    "    password = getpass(\"Password: \")\n",
    "    user = login_user(email, password)\n",
    "    return user\n",
    "\n",
    "\n",
    "def register():\n",
    "    clear_output()\n",
    "    print(\"Registration:\")\n",
    "    email=input(\"Email: \")\n",
    "    first_name=input(\"First Name: \")\n",
    "    last_name=input(\"Last Name: \")\n",
    "    password=getpass(\"Password: \")\n",
    "    \n",
    "    user_dict={\n",
    "        \"email\":email,\n",
    "        \"first_name\":first_name,\n",
    "        \"last_name\":last_name,\n",
    "        \"password\":password\n",
    "    }\n",
    "    return register_user(user_dict)\n",
    "    \n",
    "    \n",
    "def main():\n",
    "    \n",
    "    \n",
    "    while True:\n",
    "        clear_output()\n",
    "        print(\"Welcome to the Bookstore\")\n",
    "        email = input(\"Type your email to login or Type 'register' to Register\")\n",
    "        if email == 'register':\n",
    "            pass\n",
    "        elif email.lower() == 'quit':\n",
    "            print(\"Goodbye\")\n",
    "            break\n",
    "        else:\n",
    "            try:\n",
    "                login(email)\n",
    "            except:\n",
    "                print(\"Invalid Username/Password combo\")\n",
    "                time.sleep(2)\n",
    "                continue\n",
    "\n",
    "main()\n",
    "        \n",
    "        \n"
   ]
  },
  {
   "cell_type": "code",
   "execution_count": 129,
   "metadata": {},
   "outputs": [
    {
     "name": "stdout",
     "output_type": "stream",
     "text": [
      "\n",
      "Welcome the Repository\n",
      "You can:\n",
      "1. Browse All Books\n",
      "2. Browse Books By Category\n",
      "3. View Reading List\n",
      "4. Remove Book From Reading List\n",
      "5. Quit\n",
      "\n"
     ]
    },
    {
     "ename": "KeyboardInterrupt",
     "evalue": "Interrupted by user",
     "output_type": "error",
     "traceback": [
      "\u001b[0;31m---------------------------------------------------------------------------\u001b[0m",
      "\u001b[0;31mKeyboardInterrupt\u001b[0m                         Traceback (most recent call last)",
      "\u001b[0;32m<ipython-input-129-3259ab828299>\u001b[0m in \u001b[0;36m<module>\u001b[0;34m\u001b[0m\n\u001b[1;32m    214\u001b[0m \u001b[0;34m\u001b[0m\u001b[0m\n\u001b[1;32m    215\u001b[0m \u001b[0;34m\u001b[0m\u001b[0m\n\u001b[0;32m--> 216\u001b[0;31m \u001b[0mmain\u001b[0m\u001b[0;34m(\u001b[0m\u001b[0;34m)\u001b[0m\u001b[0;34m\u001b[0m\u001b[0;34m\u001b[0m\u001b[0m\n\u001b[0m",
      "\u001b[0;32m<ipython-input-129-3259ab828299>\u001b[0m in \u001b[0;36mmain\u001b[0;34m()\u001b[0m\n\u001b[1;32m    172\u001b[0m \u001b[0;36m5.\u001b[0m \u001b[0mQuit\u001b[0m\u001b[0;34m\u001b[0m\u001b[0;34m\u001b[0m\u001b[0m\n\u001b[1;32m    173\u001b[0m \"\"\")\n\u001b[0;32m--> 174\u001b[0;31m                 \u001b[0mcommand\u001b[0m \u001b[0;34m=\u001b[0m \u001b[0minput\u001b[0m\u001b[0;34m(\u001b[0m\u001b[0;34m\"Select your fate: \"\u001b[0m\u001b[0;34m)\u001b[0m\u001b[0;34m\u001b[0m\u001b[0;34m\u001b[0m\u001b[0m\n\u001b[0m\u001b[1;32m    175\u001b[0m                 \u001b[0;32mif\u001b[0m \u001b[0mcommand\u001b[0m \u001b[0;34m==\u001b[0m \u001b[0;34m\"1\"\u001b[0m\u001b[0;34m:\u001b[0m\u001b[0;34m\u001b[0m\u001b[0;34m\u001b[0m\u001b[0m\n\u001b[1;32m    176\u001b[0m                     \u001b[0mbrowse_books\u001b[0m\u001b[0;34m(\u001b[0m\u001b[0mbooks\u001b[0m\u001b[0;34m,\u001b[0m \u001b[0mreading_list\u001b[0m\u001b[0;34m)\u001b[0m\u001b[0;34m\u001b[0m\u001b[0;34m\u001b[0m\u001b[0m\n",
      "\u001b[0;32m/usr/lib/python3.10/site-packages/ipykernel/kernelbase.py\u001b[0m in \u001b[0;36mraw_input\u001b[0;34m(self, prompt)\u001b[0m\n\u001b[1;32m    846\u001b[0m                 \u001b[0;34m\"raw_input was called, but this frontend does not support input requests.\"\u001b[0m\u001b[0;34m\u001b[0m\u001b[0;34m\u001b[0m\u001b[0m\n\u001b[1;32m    847\u001b[0m             )\n\u001b[0;32m--> 848\u001b[0;31m         return self._input_request(str(prompt),\n\u001b[0m\u001b[1;32m    849\u001b[0m             \u001b[0mself\u001b[0m\u001b[0;34m.\u001b[0m\u001b[0m_parent_ident\u001b[0m\u001b[0;34m,\u001b[0m\u001b[0;34m\u001b[0m\u001b[0;34m\u001b[0m\u001b[0m\n\u001b[1;32m    850\u001b[0m             \u001b[0mself\u001b[0m\u001b[0;34m.\u001b[0m\u001b[0m_parent_header\u001b[0m\u001b[0;34m,\u001b[0m\u001b[0;34m\u001b[0m\u001b[0;34m\u001b[0m\u001b[0m\n",
      "\u001b[0;32m/usr/lib/python3.10/site-packages/ipykernel/kernelbase.py\u001b[0m in \u001b[0;36m_input_request\u001b[0;34m(self, prompt, ident, parent, password)\u001b[0m\n\u001b[1;32m    890\u001b[0m             \u001b[0;32mexcept\u001b[0m \u001b[0mKeyboardInterrupt\u001b[0m\u001b[0;34m:\u001b[0m\u001b[0;34m\u001b[0m\u001b[0;34m\u001b[0m\u001b[0m\n\u001b[1;32m    891\u001b[0m                 \u001b[0;31m# re-raise KeyboardInterrupt, to truncate traceback\u001b[0m\u001b[0;34m\u001b[0m\u001b[0;34m\u001b[0m\u001b[0m\n\u001b[0;32m--> 892\u001b[0;31m                 \u001b[0;32mraise\u001b[0m \u001b[0mKeyboardInterrupt\u001b[0m\u001b[0;34m(\u001b[0m\u001b[0;34m\"Interrupted by user\"\u001b[0m\u001b[0;34m)\u001b[0m \u001b[0;32mfrom\u001b[0m \u001b[0;32mNone\u001b[0m\u001b[0;34m\u001b[0m\u001b[0;34m\u001b[0m\u001b[0m\n\u001b[0m\u001b[1;32m    893\u001b[0m             \u001b[0;32mexcept\u001b[0m \u001b[0mException\u001b[0m \u001b[0;32mas\u001b[0m \u001b[0me\u001b[0m\u001b[0;34m:\u001b[0m\u001b[0;34m\u001b[0m\u001b[0;34m\u001b[0m\u001b[0m\n\u001b[1;32m    894\u001b[0m                 \u001b[0mself\u001b[0m\u001b[0;34m.\u001b[0m\u001b[0mlog\u001b[0m\u001b[0;34m.\u001b[0m\u001b[0mwarning\u001b[0m\u001b[0;34m(\u001b[0m\u001b[0;34m\"Invalid Message:\"\u001b[0m\u001b[0;34m,\u001b[0m \u001b[0mexc_info\u001b[0m\u001b[0;34m=\u001b[0m\u001b[0;32mTrue\u001b[0m\u001b[0;34m)\u001b[0m\u001b[0;34m\u001b[0m\u001b[0;34m\u001b[0m\u001b[0m\n",
      "\u001b[0;31mKeyboardInterrupt\u001b[0m: Interrupted by user"
     ]
    }
   ],
   "source": [
    "from getpass import getpass\n",
    "import time\n",
    "from IPython.display import clear_output\n",
    "from IPython.display import Image\n",
    "from IPython.display import display\n",
    "\n",
    "def login(email):\n",
    "    clear_output()\n",
    "    password=getpass(\"Password: \")\n",
    "    user=login_user(email, password)\n",
    "    return user\n",
    "\n",
    "def register():\n",
    "    clear_output()\n",
    "    print(\"Registration:\")\n",
    "    email=input(\"Email: \")\n",
    "    first_name=input(\"First Name: \")\n",
    "    last_name=input(\"Last Name: \")\n",
    "    password=getpass(\"Password: \")\n",
    "    \n",
    "    user_dict={\n",
    "        \"email\":email,\n",
    "        \"first_name\":first_name,\n",
    "        \"last_name\":last_name,\n",
    "        \"password\":password\n",
    "    }\n",
    "    return register_user(user_dict)\n",
    "\n",
    "\n",
    "\n",
    "\n",
    "\n",
    "def display_book_short(book):\n",
    "    print(f\"{book['id']} \\t| {book['title'][:50].ljust(50)} | \\t{book['subject']}\")\n",
    "\n",
    "def display_book_long(book):\n",
    "    cover=Image(url=book['img']) \n",
    "    display(cover)\n",
    "    print(f'''\n",
    "Title: {book['title']}    \n",
    "Author: {book['author']}        \n",
    "Pages: {book['pages']}\n",
    "Subject: {book['subject']}\n",
    "Summary: {book['summary']}\n",
    "    ''')\n",
    "\n",
    "class ReadingList:\n",
    "    def __init__(self):\n",
    "        self.reading_list=[]\n",
    "    \n",
    "    def add_book(self, book):\n",
    "        if book not in self.reading_list:\n",
    "            self.reading_list.append(book)\n",
    "        \n",
    "    def remove_book(self, book):\n",
    "        self.reading_list.remove(book)\n",
    "        \n",
    "    def empty(self):\n",
    "        self.reading_list=set()\n",
    "    \n",
    "    def show_book_list(self):\n",
    "        clear_output()\n",
    "        if not self.reading_list:\n",
    "            print(\"Your Book List Is Empty\")\n",
    "        for book in self.reading_list:\n",
    "            print(f'''\n",
    "{\"=\"*50}\n",
    "\\n\n",
    "Title:\\t {book['title']}\n",
    "Book id: {book['id']}\n",
    "Author:\\t {book['author']}\n",
    "Subject: {book['subject']}\n",
    "Summary: {book['summary']}\n",
    "\\n\n",
    "{\"=\"*50}\n",
    "\\n\n",
    "            ''')\n",
    "    def show_small_book_list(self):\n",
    "        if not self.reading_list:\n",
    "            print(\"Your Book List Is Empty\")\n",
    "        else:\n",
    "            print(\"Your Reading List:\")\n",
    "        for book in self.reading_list:\n",
    "            display_book_short(book)\n",
    "            \n",
    "    \n",
    "def browse_books(books, reading_list, subject=None):\n",
    "    while True:\n",
    "        clear_output()\n",
    "        print(f'''\n",
    "Welcome to the Browser        \n",
    "You are viewing {subject if subject else 'all'} books\n",
    "[ID] \\t| {\"[TITLE]\".ljust(50)}| [SUBJECT]\n",
    "        ''')\n",
    "        if subject:\n",
    "            books=get_book_by_category(books, subject)\n",
    "        for book in books:\n",
    "            display_book_short(book)\n",
    "        \n",
    "        selection=input(\"Select your book by ID [BACK to back out]\")   \n",
    "        if selection == \"BACK\":\n",
    "            return\n",
    "        elif selection.isnumeric() and int(selection) in map(lambda book: book['id'] ,books):\n",
    "            selection=int(selection)\n",
    "            while True:\n",
    "                print(f'''\n",
    "                You Selected: {list(filter(lambda book: book['id'] == selection, books))[0]['title']}\n",
    "                1. Add Book To Reading List\n",
    "                2. View More Information\n",
    "                3. Go Back\n",
    "                4. Go To Main Menu\n",
    "                ''')\n",
    "                action=input(\"Action: \")\n",
    "                if action == \"1\":\n",
    "                    reading_list.add_book(list(filter(lambda book: book['id'] == selection, books))[0])\n",
    "                    print(\"As you wish\")\n",
    "                    time.sleep(1)\n",
    "                    break\n",
    "                    \n",
    "                elif action == \"2\":\n",
    "                    clear_output()\n",
    "                    display_book_long(list(filter(lambda book: book['id'] == selection, books))[0])\n",
    "                    input(\"Enter Any Key To Continue\")\n",
    "                    \n",
    "                elif action == \"3\":\n",
    "                    break         \n",
    "                    \n",
    "                elif action == \"4\":\n",
    "                    return                    \n",
    "        else:\n",
    "            print(\"Invalid ID\")\n",
    "            time.sleep(2)\n",
    "            continue\n",
    "        \n",
    "\n",
    "\n",
    "def main():\n",
    "    reading_list=ReadingList()\n",
    "    books = get_books()\n",
    "    while True:\n",
    "            clear_output()\n",
    "            print(\"Welcome to the Bookstore\")\n",
    "            email = input(\"Type your email to login or Type `register` to Register\")\n",
    "            if email == 'register':\n",
    "                success_register=register()\n",
    "                if success_register:\n",
    "                    print(\"You have successfully registered\")\n",
    "                    continue\n",
    "                else:\n",
    "                    print(\"There was an error please try again\")\n",
    "                    time.sleep(2)\n",
    "                    continue\n",
    "            elif email.lower() == \"quit\":\n",
    "                print(\"Goodbye\")\n",
    "                break\n",
    "            else:\n",
    "                try:\n",
    "                    login(email)\n",
    "                except:\n",
    "                    print(\"Invalid Username/Password Combo\")\n",
    "                    time.sleep(2)\n",
    "                    continue\n",
    "\n",
    "            while True:\n",
    "                clear_output()\n",
    "                print(\"\"\"\n",
    "Welcome the Repository\n",
    "You can:\n",
    "1. Browse All Books\n",
    "2. Browse Books By Category\n",
    "3. View Reading List\n",
    "4. Remove Book From Reading List\n",
    "5. Quit\n",
    "\"\"\")\n",
    "                command = input(\"Select your fate: \")\n",
    "                if command == \"1\":\n",
    "                    browse_books(books, reading_list)\n",
    "                elif command == \"2\":\n",
    "                    while True:\n",
    "                        print(\" | \".join(get_category_list(books)))\n",
    "                        cat = input(\"Category: \").lower()\n",
    "                        if cat in get_category_list(books):\n",
    "                            browse_books(books, reading_list, cat)\n",
    "                            break\n",
    "                        print(\"Invalid category\")\n",
    "                        time.sleep(2)\n",
    "                elif command == \"3\":\n",
    "                    reading_list.show_book_list()\n",
    "                    input(\"Press Any Key To Return\")\n",
    "                elif command == \"4\":\n",
    "                    while True:\n",
    "                        clear_output()\n",
    "                        reading_list.show_small_book_list()\n",
    "                        garbage=input(\"What book ID would you like to remove? [BACK to back out]\")\n",
    "                        if garbage==\"BACK\":\n",
    "                            break\n",
    "                        elif garbage.isnumeric() and int(garbage) in map(lambda book: book['id'], reading_list.reading_list):\n",
    "                            reading_list.remove_book(list(filter(lambda book: book['id']==int(garbage) ,reading_list.reading_list))[0])\n",
    "                            print(f\"{garbage} has been removed\")\n",
    "                            time.sleep(2)\n",
    "                            break\n",
    "                        else:\n",
    "                            print(f'{garbage} is not in your collection')\n",
    "                            time.sleep(2)\n",
    "                            break\n",
    "                elif command == \"5\":\n",
    "                    print(\"Goodbye\")\n",
    "                    break\n",
    "                else:\n",
    "                    print(\"Invalid selection\")\n",
    "                    time.sleep(2)\n",
    "                    continue\n",
    "                \n",
    "            \n",
    "            \n",
    "            \n",
    "main()"
   ]
  },
  {
   "cell_type": "code",
   "execution_count": null,
   "metadata": {},
   "outputs": [],
   "source": []
  },
  {
   "cell_type": "code",
   "execution_count": null,
   "metadata": {},
   "outputs": [],
   "source": []
  }
 ],
 "metadata": {
  "kernelspec": {
   "display_name": "Python 3 (ipykernel)",
   "language": "python",
   "name": "python3"
  },
  "language_info": {
   "codemirror_mode": {
    "name": "ipython",
    "version": 3
   },
   "file_extension": ".py",
   "mimetype": "text/x-python",
   "name": "python",
   "nbconvert_exporter": "python",
   "pygments_lexer": "ipython3",
   "version": "3.9.12"
  }
 },
 "nbformat": 4,
 "nbformat_minor": 4
}
