{
 "cells": [
  {
   "cell_type": "markdown",
   "metadata": {},
   "source": [
    "# Advanced APIs"
   ]
  },
  {
   "cell_type": "markdown",
   "metadata": {},
   "source": [
    "### Set up for Success"
   ]
  },
  {
   "cell_type": "code",
   "execution_count": null,
   "metadata": {},
   "outputs": [],
   "source": [
    "import requests\n",
    "\n",
    "url = 'https://cae-bootstore.herokuapp.com'\n",
    "\n",
    "endpoint_login = \"/login\"\n",
    "endpoint_user = \"/user\"\n",
    "endpoint_book = \"/book\"\n",
    "\n"
   ]
  },
  {
   "cell_type": "markdown",
   "metadata": {},
   "source": [
    "## GET Requests"
   ]
  },
  {
   "cell_type": "code",
   "execution_count": null,
   "metadata": {
    "scrolled": true
   },
   "outputs": [],
   "source": [
    "def get_books():\n",
    "    books = requests.get(url+endpoint_book)\n",
    "    return books.json()['books']\n",
    "books = get_books()\n",
    "books"
   ]
  },
  {
   "cell_type": "markdown",
   "metadata": {},
   "source": [
    "## In Class Assignment A\n",
    "\n",
    "#### make a function that returns a set of all the categories/subject found in the book list"
   ]
  },
  {
   "cell_type": "code",
   "execution_count": null,
   "metadata": {},
   "outputs": [],
   "source": [
    "def get_category_list(books):\n",
    "    return {book['subject'].title() for book in books}\n",
    "get_category_list(books)"
   ]
  },
  {
   "cell_type": "markdown",
   "metadata": {},
   "source": [
    "## In Class Assignment B\n",
    "\n",
    "#### make a function that returns a list of all the books(dicts) in a category"
   ]
  },
  {
   "cell_type": "code",
   "execution_count": 4,
   "metadata": {},
   "outputs": [
    {
     "data": {
      "text/plain": [
       "[{'author': 'Anonymous',\n",
       "  'created_on': 'Mon, 28 Feb 2022 19:21:17 GMT',\n",
       "  'id': 23,\n",
       "  'img': 'https://s2982.pcdn.co/wp-content/uploads/2018/11/cooking-to-kill-book-cover.jpg',\n",
       "  'pages': 3207,\n",
       "  'subject': 'cooking',\n",
       "  'summary': 'Originally titled: Divorce with Benefits',\n",
       "  'title': 'COOKING TO KILL: THE POISON COOK-BOOK'},\n",
       " {'author': 'Malcolm',\n",
       "  'created_on': 'Wed, 09 Mar 2022 23:12:01 GMT',\n",
       "  'id': 48,\n",
       "  'img': 'http://www.fastprint.co.uk/Assets/User/2064-eating-people-is-wrong.jpg',\n",
       "  'pages': 134,\n",
       "  'subject': 'cooking',\n",
       "  'summary': 'This was also news to me',\n",
       "  'title': 'Eating People is Wrong'},\n",
       " {'author': 'Coolio',\n",
       "  'created_on': 'Wed, 09 Mar 2022 23:12:01 GMT',\n",
       "  'id': 52,\n",
       "  'img': 'http://www.fastprint.co.uk/Assets/User/2062-cookin-with-coolio.jpg',\n",
       "  'pages': 207,\n",
       "  'subject': 'cooking',\n",
       "  'summary': 'The fried bologna is devine',\n",
       "  'title': \"Cookin' with Coolio\"}]"
      ]
     },
     "execution_count": 4,
     "metadata": {},
     "output_type": "execute_result"
    }
   ],
   "source": [
    "def get_book_by_category(books, category):\n",
    "    return list(filter(lambda book: book['subject'].title()==category.title(),books))\n",
    "get_book_by_category(books,'Cooking')"
   ]
  },
  {
   "cell_type": "markdown",
   "metadata": {},
   "source": [
    "## Using a SLUG\n",
    "A Slug is the unique identifying part of a web address, typically at the end of the URL"
   ]
  },
  {
   "cell_type": "code",
   "execution_count": 5,
   "metadata": {
    "scrolled": true
   },
   "outputs": [
    {
     "data": {
      "text/plain": [
       "{'author': 'Micheala Giles',\n",
       " 'created_on': 'Mon, 28 Feb 2022 19:21:17 GMT',\n",
       " 'id': 22,\n",
       " 'img': 'https://s2982.pcdn.co/wp-content/uploads/2018/11/commuter-pig-keeper-book-cover.jpg',\n",
       " 'pages': 87,\n",
       " 'subject': 'science',\n",
       " 'summary': 'Not in Kansas anymore? Raising pigs in the City with a full time job?',\n",
       " 'title': 'THE COMMUTER PIG KEEPER'}"
      ]
     },
     "execution_count": 5,
     "metadata": {},
     "output_type": "execute_result"
    }
   ],
   "source": [
    "def get_single_book(book_id):\n",
    "    single_book = requests.get(url+endpoint_book +'/'+str(book_id))\n",
    "    return single_book.json()\n",
    "\n",
    "get_single_book(22)"
   ]
  },
  {
   "cell_type": "markdown",
   "metadata": {},
   "source": [
    "## POST Requests\n",
    "\n",
    "#### json.dumps will convert a dictionary into a JSON String ready for transport"
   ]
  },
  {
   "cell_type": "code",
   "execution_count": 6,
   "metadata": {
    "scrolled": true
   },
   "outputs": [
    {
     "data": {
      "text/plain": [
       "'success'"
      ]
     },
     "execution_count": 6,
     "metadata": {},
     "output_type": "execute_result"
    }
   ],
   "source": [
    "import json\n",
    "\n",
    "def register_user(payload):\n",
    "    payload_json_string = json.dumps(payload)\n",
    "    headers = {\n",
    "        'Content-Type':'application/json'\n",
    "    }\n",
    "    response = requests.post(\n",
    "        url + endpoint_user,\n",
    "        data = payload_json_string,\n",
    "        headers = headers\n",
    "    )\n",
    "    return response.text\n",
    "    \n",
    "    \n",
    "    \n",
    "    \n",
    "jims_payload={\n",
    "    \"email\":\"jimb@eam.com\",\n",
    "    \"first_name\":\"William\",\n",
    "    \"last_name\":\"Beam\",\n",
    "    \"password\":\"123\"\n",
    "}\n",
    "\n",
    "register_user(jims_payload)    \n"
   ]
  },
  {
   "cell_type": "markdown",
   "metadata": {},
   "source": [
    "## Authentication - Basic Authorization\n"
   ]
  },
  {
   "cell_type": "code",
   "execution_count": 7,
   "metadata": {
    "scrolled": false
   },
   "outputs": [
    {
     "data": {
      "text/plain": [
       "{'created_on': 'Thu, 21 Jul 2022 21:23:44 GMT',\n",
       " 'email': 'jimb@eam.com',\n",
       " 'first_name': 'William',\n",
       " 'last_name': 'Beam',\n",
       " 'modified_on': 'Thu, 21 Jul 2022 21:23:48 GMT',\n",
       " 'token': 'W5KCh-hh6YLv-4AIu6BFsLcZKNS5664ZFhtiDFI-IzM',\n",
       " 'user_id': 231}"
      ]
     },
     "execution_count": 7,
     "metadata": {},
     "output_type": "execute_result"
    }
   ],
   "source": [
    "import base64\n",
    "\n",
    "def login_user(user_name, password):\n",
    "    auth_string = user_name + \":\" + password\n",
    "    \n",
    "    headers={\n",
    "        'Authorization' : \"Basic \"+base64.b64encode(auth_string.encode()).decode()\n",
    "    }\n",
    "    \n",
    "    user_data = requests.get(\n",
    "        url + endpoint_login,\n",
    "        headers=headers\n",
    "    )\n",
    "    return user_data.json()\n",
    "login_user('jimb@eam.com','123')\n",
    "    "
   ]
  },
  {
   "cell_type": "code",
   "execution_count": 8,
   "metadata": {},
   "outputs": [
    {
     "name": "stdout",
     "output_type": "stream",
     "text": [
      "W5KCh-hh6YLv-4AIu6BFsLcZKNS5664ZFhtiDFI-IzM\n"
     ]
    }
   ],
   "source": [
    "jim=login_user('jimb@eam.com','123')\n",
    "print(jim['token'])"
   ]
  },
  {
   "cell_type": "markdown",
   "metadata": {},
   "source": [
    "## Authentication - Bearer Authorization & PUT Requests"
   ]
  },
  {
   "cell_type": "code",
   "execution_count": 9,
   "metadata": {},
   "outputs": [
    {
     "data": {
      "text/plain": [
       "'success'"
      ]
     },
     "execution_count": 9,
     "metadata": {},
     "output_type": "execute_result"
    }
   ],
   "source": [
    "def edit_user(token, payload):\n",
    "    payload_json_string = json.dumps(payload)\n",
    "    headers={\n",
    "        'Content-Type':'application/json',\n",
    "        'Authorization':'Bearer ' + token\n",
    "    }\n",
    "    response = requests.put(\n",
    "        url + endpoint_user,\n",
    "        data=payload_json_string,\n",
    "        headers=headers\n",
    "    )\n",
    "    return response.text\n",
    "\n",
    "jims_edit_payload={\n",
    "    \"first_name\":\"Bill\"\n",
    "}\n",
    "\n",
    "edit_user(jim['token'], jims_edit_payload)\n"
   ]
  },
  {
   "cell_type": "code",
   "execution_count": 10,
   "metadata": {
    "scrolled": false
   },
   "outputs": [
    {
     "data": {
      "text/plain": [
       "'Bill'"
      ]
     },
     "execution_count": 10,
     "metadata": {},
     "output_type": "execute_result"
    }
   ],
   "source": [
    "jim=login_user('jimb@eam.com','123')\n",
    "jim['first_name']"
   ]
  },
  {
   "cell_type": "markdown",
   "metadata": {},
   "source": [
    "## DELETE Request"
   ]
  },
  {
   "cell_type": "code",
   "execution_count": null,
   "metadata": {},
   "outputs": [],
   "source": [
    "def delete_user(token):\n",
    "    headers = {\n",
    "        'Authorization':\"Bearer \" + token\n",
    "    }\n",
    "    \n",
    "    response = requests.delete(\n",
    "        url+endpoint_user,\n",
    "        headers=headers\n",
    "    )\n",
    "    return response.text\n",
    "print(delete_user(jim['token']))\n"
   ]
  },
  {
   "cell_type": "code",
   "execution_count": null,
   "metadata": {},
   "outputs": [],
   "source": [
    "jim=login_user('jimb@eam.com','123')\n"
   ]
  },
  {
   "cell_type": "markdown",
   "metadata": {},
   "source": [
    "## Display Images in Jupyter notebook"
   ]
  },
  {
   "cell_type": "code",
   "execution_count": 13,
   "metadata": {},
   "outputs": [
    {
     "data": {
      "text/html": [
       "<img src=\"https://s2982.pcdn.co/wp-content/uploads/2018/11/commuter-pig-keeper-book-cover.jpg\"/>"
      ],
      "text/plain": [
       "<IPython.core.display.Image object>"
      ]
     },
     "metadata": {},
     "output_type": "display_data"
    },
    {
     "name": "stdout",
     "output_type": "stream",
     "text": [
      "hello\n"
     ]
    }
   ],
   "source": [
    "from IPython.display import Image, display\n",
    "image = Image(url='https://s2982.pcdn.co/wp-content/uploads/2018/11/commuter-pig-keeper-book-cover.jpg')\n",
    "display(image)\n",
    "print('hello')"
   ]
  },
  {
   "cell_type": "markdown",
   "metadata": {},
   "source": [
    "## Make an Application"
   ]
  },
  {
   "cell_type": "code",
   "execution_count": 14,
   "metadata": {},
   "outputs": [
    {
     "name": "stdout",
     "output_type": "stream",
     "text": [
      "\n",
      "Welcome to the Repository            \n",
      "You can:            \n",
      "1. Browse All Books\n",
      "2. Browse Book by Category\n",
      "3. View Reading List\n",
      "4. Remove Book From Reading List\n",
      "5. Quit     \n",
      "\n",
      "Select your Fate: 5\n",
      "Goodbye\n"
     ]
    }
   ],
   "source": [
    "from getpass import getpass\n",
    "import time\n",
    "from IPython.display import clear_output\n",
    "from IPython.display import Image\n",
    "from IPython.display import display\n",
    "\n",
    "\n",
    "def login(email):\n",
    "    clear_output()\n",
    "    password=getpass(\"Password: \")\n",
    "    user = login_user(email, password) \n",
    "    return user\n",
    "\n",
    "def register():\n",
    "    clear_output()\n",
    "    print(\"Registration:\")\n",
    "    email = input(\"Email: \")\n",
    "    first_name = input(\"First Name: \")\n",
    "    last_name = input(\"Last Name: \")\n",
    "    password = getpass(\"Password: \")\n",
    "    \n",
    "    user_dict={\n",
    "        \"email\":email,\n",
    "        \"first_name\":first_name,\n",
    "        \"last_name\":last_name,\n",
    "        \"password\":password\n",
    "    }\n",
    "    return register_user(user_dict)\n",
    "\n",
    "def display_book_short(book):\n",
    "    print(f\"{book['id']} \\t| {book['title'][:50].ljust(50)} | \\t{book['subject']}\")\n",
    "\n",
    "def display_book_long(book):\n",
    "    cover = Image(url=book['img'])\n",
    "    display(cover)\n",
    "    print(f'''\n",
    "Title:\\t {book['title']}\n",
    "Author: {book['author']}\n",
    "Pages:\\t {book['pages']}\n",
    "Subject: {book['subject']}\n",
    "Summary: {book['summary']}\n",
    "''')\n",
    "    \n",
    "\n",
    "    \n",
    "class ReadingList():\n",
    "    def __init__(self):\n",
    "        self.reading_list=[]\n",
    "        \n",
    "    def add_book(self, book):\n",
    "        if book not in self.reading_list:\n",
    "            self.reading_list.append(book)\n",
    "    \n",
    "    def remove_book(self, book):\n",
    "        self.reading_list.remove(book)\n",
    "    \n",
    "    def empty(self):\n",
    "        self.reading_list=[]\n",
    "    \n",
    "    def show_book_list(self):\n",
    "        clear_output()\n",
    "        if not self.reading_list:\n",
    "            print(\"Your reading list is empty\")\n",
    "        for book in self.reading_list:\n",
    "            print(f'''\n",
    "{\"=\"*50}            \n",
    "\\n\n",
    "Title:\\t {book['title']}\n",
    "Book ID: {book['id']}\n",
    "Author:\\t {book['author']}\n",
    "Subject: {book['subject']}\n",
    "Summary: {book['summary']}\n",
    "\\n\n",
    "{\"=\"*50}            \n",
    "\\n\n",
    "''')\n",
    "    \n",
    "    def show_small_book_list(self):\n",
    "        if not self.reading_list:\n",
    "            print(\"Your reading list is empty\")\n",
    "        else:\n",
    "            for book in self.reading_list:\n",
    "                display_book_short(book)\n",
    "\n",
    "def browse_books(books, reading_list, subject=None):\n",
    "    while True:\n",
    "        clear_output()\n",
    "        print(f'''\n",
    "Welcome to the Book Browser\n",
    "You are viewing {subject if subject else 'all'} books\n",
    "[ID] \\t| {\"[TITLE]\".ljust(50)} | [SUBJECT]\n",
    "        ''')\n",
    "        if subject:\n",
    "            books=get_book_by_category(books, subject)\n",
    "        for book in books:\n",
    "            display_book_short(book)\n",
    "\n",
    "        selection = input(\"Select you book by ID [BACK to back out]\")\n",
    "        if selection.lower()=='back':\n",
    "            return\n",
    "        elif selection.isnumeric() and int(selection) in map(lambda book: book['id'], books):\n",
    "            selection=int(selection)\n",
    "            while True:\n",
    "                print(f'''\n",
    "You Selected: {list(filter(lambda book: book['id'] == selection, books))[0]['title']}\n",
    "1. Add Book To Reading List\n",
    "2. View More Information\n",
    "3. Go Back\n",
    "4. Go To Main Menu\n",
    "''')\n",
    "                action = input(\"Action: \")\n",
    "                if action ==\"1\":\n",
    "                    reading_list.add_book(list(filter(lambda book: book['id']==selection, books))[0])\n",
    "                    print(\"As you wish\")\n",
    "                    time.sleep(1)\n",
    "                    break\n",
    "                elif action ==\"2\":\n",
    "                    clear_output()\n",
    "                    display_book_long(list(filter(lambda book: book['id']==selection, books))[0])\n",
    "                    input(\"Press Enter To Continue\")\n",
    "                elif action==\"3\":\n",
    "                    break\n",
    "                elif action==\"4\":\n",
    "                    return\n",
    "                    \n",
    "        else:\n",
    "            print(\"Invalid ID\")\n",
    "            time.sleep(2)\n",
    "            continue\n",
    "    \n",
    "\n",
    "def main():\n",
    "    reading_list = ReadingList()\n",
    "    books = get_books()\n",
    "    \n",
    "    while True:\n",
    "        clear_output()\n",
    "        print(\"Welcome to the Bookstore\")\n",
    "        email = input(\"Type your email to login or Type `register` to Register \")\n",
    "        if email == 'register':\n",
    "            success_register=register()\n",
    "            if success_register:\n",
    "                print(\"You have successfully registered\")\n",
    "                continue\n",
    "        elif email.lower() == \"quit\":\n",
    "            print(\"Goodbye\")\n",
    "            break\n",
    "        else:\n",
    "            try:\n",
    "                login(email)\n",
    "            except:\n",
    "                print(\"Invalid Username/Password combo\")\n",
    "                time.sleep(2)\n",
    "                continue\n",
    "        # First Scene of our app (above)\n",
    "        while True:\n",
    "            clear_output()\n",
    "            print(\"\"\"\n",
    "Welcome to the Repository            \n",
    "You can:            \n",
    "1. Browse All Books\n",
    "2. Browse Book by Category\n",
    "3. View Reading List\n",
    "4. Remove Book From Reading List\n",
    "5. Quit     \n",
    "\"\"\")\n",
    "            command = input(\"Select your Fate: \")\n",
    "            if command == \"1\":\n",
    "                browse_books(books, reading_list)\n",
    "            elif command == \"2\":\n",
    "                while True:\n",
    "                    print(\" | \".join(get_category_list(books)))\n",
    "                    cat = input(\"Category: \").title()\n",
    "                    if cat in get_category_list(books):\n",
    "                        browse_books(books, reading_list, cat)\n",
    "                        break\n",
    "                    print(\"Invalid Category\")\n",
    "                    time.sleep(2)\n",
    "                    continue\n",
    "            elif command == \"3\":\n",
    "                reading_list.show_book_list()\n",
    "                input(\"Press Enter To Return\")\n",
    "                continue\n",
    "            elif command == \"4\":\n",
    "                while True:\n",
    "                    clear_output()\n",
    "                    reading_list.show_small_book_list()\n",
    "                    garbage = input(\"What book ID would you like to remove? [BACK to back out]\")\n",
    "                    if garbage.lower() == \"back\":\n",
    "                        break\n",
    "                    elif garbage.isnumeric() and int(garbage) in map(lambda book: book['id'], reading_list.reading_list):\n",
    "                        reading_list.remove_book(list(filter(lambda book: book['id']==int(garbage), reading_list.reading_list))[0])\n",
    "                        print(f'{garbage} has been removed')\n",
    "                        time.sleep(2)\n",
    "                        break\n",
    "                    else:\n",
    "                        print(f'{garbage} is not in your collection')\n",
    "                        time.sleep(2)\n",
    "                        break\n",
    "                continue   \n",
    "                    \n",
    "            elif command == \"5\":\n",
    "                print(\"Goodbye\")\n",
    "                break\n",
    "            else:\n",
    "                print(\"Invalid Selection\")\n",
    "                time.sleep(2)\n",
    "                continue\n",
    "        break\n",
    "            \n",
    "\n",
    "main()            "
   ]
  },
  {
   "cell_type": "code",
   "execution_count": null,
   "metadata": {},
   "outputs": [],
   "source": []
  },
  {
   "cell_type": "code",
   "execution_count": null,
   "metadata": {},
   "outputs": [],
   "source": [
    "cindy@crawford.com"
   ]
  },
  {
   "cell_type": "code",
   "execution_count": null,
   "metadata": {},
   "outputs": [
    {
     "name": "stdout",
     "output_type": "stream",
     "text": [
      "\n",
      "Welcome to the Repository            \n",
      "You can:            \n",
      "1. Browse All Books\n",
      "2. Browse Book by Category\n",
      "3. View Reading List\n",
      "4. Remove Book From Reading List\n",
      "5. Quit\n",
      "6. Show 'Read' List\n",
      "\n",
      "\n"
     ]
    }
   ],
   "source": [
    "from getpass import getpass\n",
    "import time\n",
    "from IPython.display import clear_output\n",
    "from IPython.display import Image\n",
    "from IPython.display import display\n",
    "\n",
    "\n",
    "def login(email):\n",
    "    clear_output()\n",
    "    password=getpass(\"Password: \")\n",
    "    user = login_user(email, password) \n",
    "    return user\n",
    "\n",
    "def register():\n",
    "    clear_output()\n",
    "    print(\"Registration:\")\n",
    "    email = input(\"Email: \")\n",
    "    first_name = input(\"First Name: \")\n",
    "    last_name = input(\"Last Name: \")\n",
    "    password = getpass(\"Password: \")\n",
    "    \n",
    "    user_dict={\n",
    "        \"email\":email,\n",
    "        \"first_name\":first_name,\n",
    "        \"last_name\":last_name,\n",
    "        \"password\":password\n",
    "    }\n",
    "    return register_user(user_dict)\n",
    "\n",
    "def display_book_short(book):\n",
    "    print(f\"{book['id']} \\t| {book['title'][:50].ljust(50)} | \\t{book['subject']}\")\n",
    "\n",
    "def display_book_long(book):\n",
    "    cover = Image(url=book['img'])\n",
    "    display(cover)\n",
    "    print(f'''\n",
    "Title:\\t {book['title']}\n",
    "Author: {book['author']}\n",
    "Pages:\\t {book['pages']}\n",
    "Subject: {book['subject']}\n",
    "Summary: {book['summary']}\n",
    "''')\n",
    "    \n",
    "    \n",
    "    \n",
    "class ReadingList():\n",
    "    def __init__(self):\n",
    "        self.reading_list=[]\n",
    "        self.read_books = []\n",
    "    \n",
    "    def welcome_main(self):\n",
    "        clear_output()\n",
    "        print(\"Welcome to the Bookstore\")\n",
    "    \n",
    "    def invalid(self):\n",
    "        print(\"Invalid Username/Password Combo\")\n",
    "        time.sleep(2)\n",
    "        \n",
    "    def register_screen(self):\n",
    "        print(\"You have successfully registered!\")\n",
    "    \n",
    "    def goodbye(self):\n",
    "        print('Goodbye!')\n",
    "    \n",
    "        \n",
    "    def add_book(self, book):\n",
    "        if book not in self.reading_list:\n",
    "            self.reading_list.append(book)\n",
    "    \n",
    "    def add_read_book(self, book):\n",
    "        if book not in self.read_books:\n",
    "            self.reading_list.append(book)\n",
    "            \n",
    "    def show_read_books(self):\n",
    "        clear_output()\n",
    "        if not self.read_books:\n",
    "            print(\"You haven't read anything you dolt.\")\n",
    "        for book in self.read_books:\n",
    "            print(f'''\n",
    "{\"=\"*50}            \n",
    "\\n\n",
    "Title:\\t {book['title']}\n",
    "Book ID: {book['id']}\n",
    "Author:\\t {book['author']}\n",
    "Subject: {book['subject']}\n",
    "Summary: {book['summary']}\n",
    "\\n\n",
    "{\"=\"*50}            \n",
    "\\n\n",
    "''')\n",
    "    \n",
    "    def remove_book(self, book):\n",
    "        self.reading_list.remove(book)\n",
    "    \n",
    "    def empty(self):\n",
    "        self.reading_list=[]\n",
    "    \n",
    "    def show_book_list(self):\n",
    "        clear_output()\n",
    "        if not self.reading_list:\n",
    "            print(\"Your reading list is empty\")\n",
    "        for book in self.reading_list:\n",
    "            print(f'''\n",
    "{\"=\"*50}            \n",
    "\\n\n",
    "Title:\\t {book['title']}\n",
    "Book ID: {book['id']}\n",
    "Author:\\t {book['author']}\n",
    "Subject: {book['subject']}\n",
    "Summary: {book['summary']}\n",
    "\\n\n",
    "{\"=\"*50}            \n",
    "\\n\n",
    "''')\n",
    "    \n",
    "    def show_small_book_list(self):\n",
    "        if not self.reading_list:\n",
    "            print(\"Your reading list is empty\")\n",
    "        else:\n",
    "            for book in self.reading_list:\n",
    "                display_book_short(book)\n",
    "\n",
    "def browse_books(books, reading_list, subject=None):\n",
    "    useful = UsefulDoodads()\n",
    "    while True:\n",
    "        clear_output()\n",
    "        print(f'''\n",
    "Welcome to the Book Browser\n",
    "You are viewing {subject if subject else 'all'} books\n",
    "[ID] \\t| {\"[TITLE]\".ljust(50)} | [SUBJECT]\n",
    "        ''')\n",
    "        if subject:\n",
    "            #useful.subject()\n",
    "            books=get_book_by_category(books, subject)\n",
    "        for book in books:\n",
    "            display_book_short(book)\n",
    "\n",
    "        selection = input(\"Select your book by ID [BACK to back out]\")\n",
    "        if selection.lower()=='back':\n",
    "            return\n",
    "        elif selection.isnumeric() and int(selection) in map(lambda book: book['id'], books):\n",
    "            selection=int(selection)\n",
    "            while True:\n",
    "                print(f'''\n",
    "You Selected: {list(filter(lambda book: book['id'] == selection, books))[0]['title']}\n",
    "1. Add Book To Reading List\n",
    "2. View More Information\n",
    "3. Go Back\n",
    "4. Go To Main Menu\n",
    "5. Add To 'Read' List\n",
    "''')\n",
    "                action = input(\"Action: \")\n",
    "                if action ==\"1\":\n",
    "                    reading_list.add_book(list(filter(lambda book: book['id']==selection, books))[0])\n",
    "                    print(\"As you wish\")\n",
    "                    time.sleep(1)\n",
    "                    break\n",
    "                elif action ==\"2\":\n",
    "                    clear_output()\n",
    "                    display_book_long(list(filter(lambda book: book['id']==selection, books))[0])\n",
    "                    input(\"Press Enter To Continue\")\n",
    "                elif action==\"3\":\n",
    "                    break\n",
    "                elif action==\"4\":\n",
    "                    return\n",
    "                elif action == \"5\":\n",
    "                    reading_list.add_read_book(list(filter(lambda book: book['id']==selection, books))[0])\n",
    "                    \n",
    "        else:\n",
    "            print(\"Invalid ID\")\n",
    "            time.sleep(2)\n",
    "            continue\n",
    "    \n",
    "\n",
    "def main():\n",
    "    reading_list = ReadingList()\n",
    "    books = get_books()\n",
    "    \n",
    "    while True:\n",
    "        reading_list.welcome_main()\n",
    "        email = input(\"Type your email to login or Type `register` to Register \")\n",
    "        if email == 'register':\n",
    "            success_register=register()\n",
    "            if success_register:\n",
    "                reading_list.register_screen()\n",
    "                continue\n",
    "        elif email.lower() == \"quit\":\n",
    "            reading_list.goodbye()\n",
    "            break\n",
    "        else:\n",
    "            try:\n",
    "                login(email)\n",
    "            except:\n",
    "                reading_list.invalid()\n",
    "                continue\n",
    "        # First Scene of our app (above)\n",
    "        while True:\n",
    "            clear_output()\n",
    "            print(\"\"\"\n",
    "Welcome to the Repository            \n",
    "You can:            \n",
    "1. Browse All Books\n",
    "2. Browse Book by Category\n",
    "3. View Reading List\n",
    "4. Remove Book From Reading List\n",
    "5. Quit\n",
    "6. Show 'Read' List\n",
    "\n",
    "\"\"\")\n",
    "            command = input(\"Select your Fate: \")\n",
    "            if command == \"1\":\n",
    "                browse_books(books, reading_list)\n",
    "            elif command == \"2\":\n",
    "                while True:\n",
    "                    print(\" | \".join(get_category_list(books)))\n",
    "                    cat = input(\"Category: \").title()\n",
    "                    if cat in get_category_list(books):\n",
    "                        browse_books(books, reading_list, cat)\n",
    "                        break\n",
    "                    print(\"Invalid Category\")\n",
    "                    time.sleep(2)\n",
    "                    continue\n",
    "            elif command == \"3\":\n",
    "                reading_list.show_book_list()\n",
    "                input(\"Press Enter To Return\")\n",
    "                continue\n",
    "            elif command == \"4\":\n",
    "                while True:\n",
    "                    clear_output()\n",
    "                    reading_list.show_small_book_list()\n",
    "                    garbage = input(\"What book ID would you like to remove? [BACK to back out]\")\n",
    "                    if garbage.lower() == \"back\":\n",
    "                        break\n",
    "                    elif garbage.isnumeric() and int(garbage) in map(lambda book: book['id'], reading_list.reading_list):\n",
    "                        reading_list.remove_book(list(filter(lambda book: book['id']==int(garbage), reading_list.reading_list))[0])\n",
    "                        print(f'{garbage} has been removed')\n",
    "                        time.sleep(2)\n",
    "                        break\n",
    "                    else:\n",
    "                        print(f'{garbage} is not in your collection')\n",
    "                        time.sleep(2)\n",
    "                        break\n",
    "                continue\n",
    "                    \n",
    "            elif command == \"5\":\n",
    "                reading_list.goodbye()\n",
    "                #print(\"Goodbye\")\n",
    "                break\n",
    "            elif command == \"6\":\n",
    "                reading_list.show_read_books()\n",
    "                input(\"Press Enter To Return\")\n",
    "                continue\n",
    "            else:\n",
    "                print(\"Invalid Selection\")\n",
    "                time.sleep(2)\n",
    "                continue\n",
    "        break\n",
    "            \n",
    "\n",
    "main()            "
   ]
  },
  {
   "cell_type": "code",
   "execution_count": null,
   "metadata": {},
   "outputs": [],
   "source": [
    "### Tests\n",
    "\n",
    "## API \n",
    "def get_category_list(books):\n",
    "    return {book['subject'].title() for book in books}\n",
    "get_category_list(books)\n",
    "\n",
    "## Test for API \n",
    "def test_1_api(self):\n",
    "        self.assertEqual(get_category_list({'Cooking','Entertainment','Marriage','Marriage Advice','Programming','Science','Self Help'}))\n",
    "        \n",
    "## UI\n",
    "def display_book_short(book):\n",
    "    print(f\"{book['id']} \\t| {book['title'][:50].ljust(50)} | \\t{book['subject']}\")\n",
    "    \n",
    "## Test for UI\n",
    " def test_1_UI(self):\n",
    "        self.assertEqual(display_book_short('marriage')[ID] | [TITLE] | [SUBJECT]| 'TEACH YOUR WIFE TO BE A WIDOW' | 'marriage')\n"
   ]
  },
  {
   "cell_type": "code",
   "execution_count": null,
   "metadata": {},
   "outputs": [],
   "source": [
    "cindy@crawford.com"
   ]
  }
 ],
 "metadata": {
  "kernelspec": {
   "display_name": "Python 3.10.5 64-bit",
   "language": "python",
   "name": "python3"
  },
  "language_info": {
   "codemirror_mode": {
    "name": "ipython",
    "version": 3
   },
   "file_extension": ".py",
   "mimetype": "text/x-python",
   "name": "python",
   "nbconvert_exporter": "python",
   "pygments_lexer": "ipython3",
   "version": "3.10.5"
  },
  "vscode": {
   "interpreter": {
    "hash": "aee8b7b246df8f9039afb4144a1f6fd8d2ca17a180786b69acc140d282b71a49"
   }
  }
 },
 "nbformat": 4,
 "nbformat_minor": 4
}
